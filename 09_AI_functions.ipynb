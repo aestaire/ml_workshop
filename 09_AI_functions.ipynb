{
 "cells": [
  {
   "cell_type": "markdown",
   "metadata": {
    "application/vnd.databricks.v1+cell": {
     "cellMetadata": {},
     "inputWidgets": {},
     "nuid": "80c7b22b-c255-4379-bc3d-23352278c46d",
     "showTitle": false,
     "tableResultSettingsMap": {},
     "title": ""
    }
   },
   "source": [
    "\n",
    "<div style=\"text-align: center; line-height: 0; padding-top: 9px;\">\n",
    "  <img src=https://raw.githubusercontent.com/aestaire/ml_workshop/refs/heads/main/files/images/hands-on.png>\n",
    "</div>"
   ]
  },
  {
   "cell_type": "markdown",
   "metadata": {
    "application/vnd.databricks.v1+cell": {
     "cellMetadata": {},
     "inputWidgets": {},
     "nuid": "1b77b7ff-c22a-4c05-9e93-7ef5847bf2ba",
     "showTitle": false,
     "tableResultSettingsMap": {},
     "title": ""
    }
   },
   "source": [
    "<img src=\"https://raw.githubusercontent.com/Databricks-BR/genai_hackathon/main/images/head_genai_sql.png\" width=\"1200px\">"
   ]
  },
  {
   "cell_type": "markdown",
   "metadata": {
    "application/vnd.databricks.v1+cell": {
     "cellMetadata": {},
     "inputWidgets": {},
     "nuid": "8533980d-f6ca-452d-b166-bc0cee6c1b6e",
     "showTitle": false,
     "tableResultSettingsMap": {},
     "title": ""
    }
   },
   "source": [
    "Una forma de aplicar los modelos de IA Generativa es utilizar las **[Funciones SQL de IA de Databricks](https://docs.databricks.com/en/large-language-models/ai-functions.html)**.\n",
    "\n",
    "Estas permiten el uso de SQL, un lenguaje ampliamente utilizado por analistas de datos y de negocios, para ejecutar un LLM sobre nuestras bases de datos corporativas. Con esto, también podemos crear nuevas tablas con la información extraída para ser utilizada en nuestros análisis más fácilmente.\n",
    "\n",
    "Existen funciones nativas para ejecutar tareas predefinidas o enviar cualquier instrucción deseada para ser ejecutada. A continuación se muestran las descripciones:"
   ]
  },
  {
   "cell_type": "markdown",
   "metadata": {
    "application/vnd.databricks.v1+cell": {
     "cellMetadata": {},
     "inputWidgets": {},
     "nuid": "16df731a-55c3-4f3d-8456-c93e2a5b414e",
     "showTitle": false,
     "tableResultSettingsMap": {},
     "title": ""
    }
   },
   "source": [
    "\n",
    " Gen AI SQL Function | Descripción |\n",
    " -- | -- |\n",
    " [ai_analyze_sentiment](https://docs.databricks.com/pt/sql/language-manual/functions/ai_analyze_sentiment.html) | Análisis de Sentimiento |\n",
    " [ai_classify](https://docs.databricks.com/pt/sql/language-manual/functions/ai_classify.html) | Clasificación de Texto |\n",
    " [ai_extract](https://docs.databricks.com/pt/sql/language-manual/functions/ai_extract.html) | Extracción de Términos |\n",
    " [ai_fix_grammar](https://docs.databricks.com/pt/sql/language-manual/functions/ai_fix_grammar.html) | Corrección Gramatical |\n",
    " [ai_gen](https://docs.databricks.com/pt/sql/language-manual/functions/ai_gen.html) | Generación de Textos | \n",
    " [ai_mask](https://docs.databricks.com/pt/sql/language-manual/functions/ai_mask.html) | Enmascaramiento de datos sensibles |\n",
    " [ai_query](https://docs.databricks.com/pt/sql/language-manual/functions/ai_query.html) | Consultas Gen AI |\n",
    " [ai_similarity](https://docs.databricks.com/pt/sql/language-manual/functions/ai_similarity.html) | Análisis de Similitud |\n",
    " [ai_summarize](https://docs.databricks.com/pt/sql/language-manual/functions/ai_summarize.html) | Resumen de Textos |\n",
    " [ai_translate](https://docs.databricks.com/pt/sql/language-manual/functions/ai_translate.html) | Traducción de Textos |"
   ]
  },
  {
   "cell_type": "markdown",
   "metadata": {
    "application/vnd.databricks.v1+cell": {
     "cellMetadata": {},
     "inputWidgets": {},
     "nuid": "4a69749e-4627-42eb-8f43-c7a0b14ec4b9",
     "showTitle": false,
     "tableResultSettingsMap": {},
     "title": ""
    }
   },
   "source": [
    "## Ejemplos de implementación"
   ]
  },
  {
   "cell_type": "code",
   "execution_count": 0,
   "metadata": {
    "application/vnd.databricks.v1+cell": {
     "cellMetadata": {
      "byteLimit": 2048000,
      "rowLimit": 10000
     },
     "inputWidgets": {},
     "nuid": "ef5a4aea-080e-4a04-8be3-a2ef38517e99",
     "showTitle": true,
     "tableResultSettingsMap": {},
     "title": "Crear Informe Médico"
    }
   },
   "outputs": [],
   "source": [
    "SELECT ai_query(\n",
    "    'databricks-meta-llama-3-3-70b-instruct',\n",
    "    'Cree un informe médico de un paciente llamado JUAN SILVA (30 años) con síntomas de COVID que está en tratamiento hace 10 días, incluyendo todos los medicamentos utilizados para minimizar los efectos inflamatorios de una crisis pulmonar.'\n",
    "  ) AS summary"
   ]
  },
  {
   "cell_type": "code",
   "execution_count": 0,
   "metadata": {
    "application/vnd.databricks.v1+cell": {
     "cellMetadata": {
      "byteLimit": 2048000,
      "rowLimit": 10000
     },
     "inputWidgets": {},
     "nuid": "42ff6bdc-b1e1-4f79-9d1a-1c5ccc567515",
     "showTitle": true,
     "tableResultSettingsMap": {},
     "title": "Crear lista fake de clientes"
    }
   },
   "outputs": [],
   "source": [
    "SELECT ai_query(\n",
    "    'databricks-meta-llama-3-3-70b-instruct',\n",
    "    'Genere un conjunto de datos de muestra de 10 clientes que contenga las siguientes columnas: \n",
    "      \"customer_id\" (entero largo de 1 a 10), \"firstname\", \"lastname\" y order_count (número positivo aleatorio, menor que 200).\n",
    "\n",
    "      Dame solo JSON. Ningún texto fuera del JSON. Sin explicaciones ni notas.\n",
    "      [{\"customer_id\":<long>, \"firstname\":<string>, \"lastname\":<string>, \"order_count\":<int>}] \n",
    "      \"array<struct<customer_id:long, firstname:string, lastname:string, order_count:int>>\" '\n",
    "      ) AS sample_data"
   ]
  },
  {
   "cell_type": "code",
   "execution_count": 0,
   "metadata": {
    "application/vnd.databricks.v1+cell": {
     "cellMetadata": {
      "byteLimit": 2048000,
      "rowLimit": 10000
     },
     "inputWidgets": {},
     "nuid": "e9fc11c9-e1e1-4717-911f-bc808ae65e75",
     "showTitle": true,
     "tableResultSettingsMap": {
      "0": {
       "dataGridStateBlob": "{\"version\":1,\"tableState\":{\"columnPinning\":{\"left\":[\"#row_number#\"],\"right\":[]},\"columnSizing\":{},\"columnVisibility\":{}},\"settings\":{\"columns\":{}},\"syncTimestamp\":1759701161819}",
       "filterBlob": null,
       "queryPlanFiltersBlob": null,
       "tableResultIndex": 0
      }
     },
     "title": "Traducción"
    }
   },
   "outputs": [],
   "source": [
    "SELECT ai_translate('Hello, how are you?', 'es') as traduccion;"
   ]
  },
  {
   "cell_type": "code",
   "execution_count": 0,
   "metadata": {
    "application/vnd.databricks.v1+cell": {
     "cellMetadata": {
      "byteLimit": 2048000,
      "rowLimit": 10000
     },
     "inputWidgets": {},
     "nuid": "c6c0ca2f-2d16-4f34-b4bd-b05ec927a280",
     "showTitle": true,
     "tableResultSettingsMap": {},
     "title": "Resumen de un texto juridico"
    }
   },
   "outputs": [],
   "source": [
    "SELECT ai_summarize(\n",
    "\"\"\"\n",
    "Haz el resumen en español:\n",
    "\n",
    "DE LA PUBLICIDAD: Todas las declaraciones, anuncios públicos y divulgaciones deberán ser previamente comunicadas por la parte receptora, siguiendo los principios de buena fe y transparencia contractual. Asimismo, es necesaria la aprobación de la otra parte sobre la revelación de contenidos, requiriendo el consentimiento previo y expreso.\n",
    "\n",
    "DE LA INFORMACIÓN CONSIDERADA CONFIDENCIAL: La información confidencial es aquella que la parte reveladora no desea que sea divulgada a terceros fuera del acuerdo. Por lo tanto, debe redactarse una lista con los datos que serán considerados confidenciales, como: metodologías y herramientas de desarrollo de productos y servicios, valores e información financiera, documentos de marketing y estrategia.\n",
    "\n",
    "DE LAS PENALIDADES Y DEL INCUMPLIMIENTO DE LA CONFIDENCIALIDAD: Las partes deberán acordar las penalidades en caso de incumplimiento de las cláusulas contractuales, tales como: pago de multa, indemnización material y/o moral, y/o reembolso de todas las pérdidas, daños causados, lucro cesante, daños directos e indirectos, derechos de autor, entre otros perjuicios patrimoniales o morales que surjan como consecuencia del incumplimiento, además de la responsabilidad civil y penal de forma judicial.\n",
    "\"\"\",\n",
    "    10\n",
    "  ) as resumen"
   ]
  },
  {
   "cell_type": "code",
   "execution_count": 0,
   "metadata": {
    "application/vnd.databricks.v1+cell": {
     "cellMetadata": {
      "byteLimit": 2048000,
      "rowLimit": 10000
     },
     "inputWidgets": {},
     "nuid": "d86a0b76-4262-42e0-aeef-fee376e3dec0",
     "showTitle": true,
     "tableResultSettingsMap": {},
     "title": "Classificar texto juridico"
    }
   },
   "outputs": [],
   "source": [
    "SELECT ai_classify(\n",
    "  \"\"\"\n",
    "      En caso de incumplimiento del contrato por parte del proveedor de servicios, el cliente tendrá derecho a aplicar una multa contractual, cuyo valor será equivalente al 20% del valor total del contrato, sin perjuicio de otras reclamaciones o acciones legales que el cliente pueda tener. Esta multa será inmediatamente exigible y pagadera por el proveedor de servicios en la fecha de ocurrencia del incumplimiento del contrato.\n",
    "  \"\"\"\n",
    ", ARRAY(  \"cláusula de rescisión\", \"cláusula de garantía\", \"cláusula de multa\"))\n",
    "as avalia_contrato;"
   ]
  },
  {
   "cell_type": "code",
   "execution_count": 0,
   "metadata": {
    "application/vnd.databricks.v1+cell": {
     "cellMetadata": {
      "byteLimit": 2048000,
      "rowLimit": 10000
     },
     "inputWidgets": {},
     "nuid": "c4902d6c-7cc6-4244-8d2f-c103d37d2e9d",
     "showTitle": true,
     "tableResultSettingsMap": {},
     "title": "Similitud de textos"
    }
   },
   "outputs": [],
   "source": [
    "-- Realiza una comparación de SIMILITUD ENTRE DOS TEXTOS\n",
    "\n",
    "-- Por ejemplo, para ver si alguna cláusula contractual fue modificada (en un contexto jurídico)\n",
    "\n",
    "SELECT ai_similarity(\n",
    "  \"\"\"\n",
    "        En caso de violación de contrato por parte del proveedor de servicios, el cliente tendrá derecho a aplicar una multa contractual, cuyo valor será equivalente al 10% del valor total del contrato, sin perjuicio de otras reclamaciones o acciones legales que el cliente pueda tener. Esta multa será inmediatamente exigible y pagadera por el proveedor de servicios en la fecha de ocurrencia de la violación del contrato.\n",
    "\n",
    "  \"\"\",\n",
    "  \"\"\"\n",
    "        En caso de violación de contrato por parte del proveedor de servicios, el cliente tendrá derecho a aplicar una multa contractual, cuyo valor será equivalente al 20% del valor total del contrato, sin perjuicio de otras reclamaciones o acciones legales que el cliente pueda tener. Esta multa será inmediatamente exigible y pagadera por el proveedor de servicios en la fecha de ocurrencia de la violación del contrato.\n",
    "\n",
    "  \"\"\") as similitud"
   ]
  },
  {
   "cell_type": "code",
   "execution_count": 0,
   "metadata": {
    "application/vnd.databricks.v1+cell": {
     "cellMetadata": {
      "byteLimit": 2048000,
      "rowLimit": 10000
     },
     "inputWidgets": {},
     "nuid": "7e6eb1f3-aefa-4537-8d4f-dc2d63f5f7e7",
     "showTitle": true,
     "tableResultSettingsMap": {},
     "title": "Extracción de términos"
    }
   },
   "outputs": [],
   "source": [
    "SELECT ai_extract(\n",
    "    \"\"\"\n",
    "        El cliente Juan Pérez, con número de cuenta 123456789, realizó una transferencia bancaria el 15/09/2025 por un monto de 2,500 euros al beneficiario María López. La operación fue registrada bajo el código de transacción TRX987654.\n",
    "    \"\"\",\n",
    "    array('nombre', 'fecha', 'numero_de_cuenta', 'beneficiario', 'monto', 'codigo_de_transaccion')\n",
    "  ) as extraccion_de_terminos;"
   ]
  },
  {
   "cell_type": "code",
   "execution_count": 0,
   "metadata": {
    "application/vnd.databricks.v1+cell": {
     "cellMetadata": {
      "byteLimit": 2048000,
      "rowLimit": 10000
     },
     "inputWidgets": {},
     "nuid": "8b96c53b-bdfd-4b91-ad03-65edb87a67e3",
     "showTitle": true,
     "tableResultSettingsMap": {},
     "title": "Extracción de términos"
    }
   },
   "outputs": [],
   "source": [
    "SELECT extracao.nombre,\n",
    "       extracao.fecha,      \n",
    "       extracao.numero_de_cuenta,\n",
    "       extracao.beneficiario,\n",
    "       extracao.monto,\n",
    "       extracao.codigo_de_transaccion\n",
    "FROM (\n",
    "  SELECT ai_extract(\n",
    "    \"\"\"\n",
    "                El cliente Juan Pérez, con número de cuenta 123456789, realizó una transferencia bancaria el 15/09/2025 por un monto de 2,500 euros al beneficiario María López. La operación fue registrada bajo el código de transacción TRX987654.\n",
    "    \"\"\",\n",
    "    array('nombre', 'fecha', 'numero_de_cuenta', 'beneficiario', 'monto', 'codigo_de_transaccion')\n",
    "  ) as extracao\n",
    ")"
   ]
  }
 ],
 "metadata": {
  "application/vnd.databricks.v1+notebook": {
   "computePreferences": null,
   "dashboards": [],
   "environmentMetadata": {
    "base_environment": "",
    "environment_version": "3"
   },
   "inputWidgetPreferences": null,
   "language": "sql",
   "notebookMetadata": {
    "pythonIndentUnit": 2
   },
   "notebookName": "09_AI_functions",
   "widgets": {}
  },
  "language_info": {
   "name": "sql"
  }
 },
 "nbformat": 4,
 "nbformat_minor": 0
}

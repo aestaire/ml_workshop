{
 "cells": [
  {
   "cell_type": "markdown",
   "metadata": {
    "application/vnd.databricks.v1+cell": {
     "cellMetadata": {},
     "inputWidgets": {},
     "nuid": "1ffd5498-587b-4d81-a826-142f49dc118d",
     "showTitle": false,
     "tableResultSettingsMap": {},
     "title": ""
    }
   },
   "source": [
    "\n",
    "<div style=\"text-align: center; line-height: 0; padding-top: 9px;\">\n",
    "  <img src=https://raw.githubusercontent.com/aestaire/ml_workshop/refs/heads/main/files/images/hands-on.png>\n",
    "</div>\n"
   ]
  },
  {
   "cell_type": "markdown",
   "metadata": {
    "application/vnd.databricks.v1+cell": {
     "cellMetadata": {},
     "inputWidgets": {},
     "nuid": "06bab018-6d8e-4ac1-9f70-c2fd61916a6a",
     "showTitle": false,
     "tableResultSettingsMap": {},
     "title": ""
    }
   },
   "source": [
    "# Demostración de MLOps end-to-end con MLFlow, AutoML y Modelos en Unity Catalog\n",
    "\n",
    "## Desafíos al llevar un proyecto de ML a producción\n",
    "\n",
    "Mover un proyecto de ML de un notebook independiente a una canalización de datos de nivel de producción es complejo y requiere múltiples competencias.\n",
    "\n",
    "Tener un modelo funcionando en un notebook no es suficiente. Necesitamos cubrir todo el ciclo de vida del proyecto de ML y resolver los siguientes desafíos:\n",
    "\n",
    "* Actualizar los datos con el tiempo (canalización de ingestión de nivel de producción)\n",
    "* Cómo guardar, compartir y reutilizar características de ML en la organización\n",
    "* Cómo asegurar que una nueva versión del modelo respete los estándares de calidad y no rompa la canalización\n",
    "* Gobernanza del modelo: ¿qué está desplegado, cómo se entrenó, por quién y con qué datos?\n",
    "* Cómo monitorear y reentrenar el modelo...\n",
    "\n",
    "Además, estos proyectos suelen involucrar a múltiples equipos, creando fricción y posibles silos\n",
    "\n",
    "* Ingenieros de datos encargados de ingerir, preparar y exponer los datos\n",
    "* Científicos de datos, expertos en análisis de datos y construcción de modelos de ML\n",
    "* Ingenieros de ML, que configuran las canalizaciones de infraestructura de ML (similar a DevOps)\n",
    "\n",
    "Esto tiene un impacto real en el negocio, ralentizando los proyectos y evitando que se desplieguen en producción y generen ROI.\n",
    "\n",
    "## ¿Qué es MLOps?\n",
    "\n",
    "MLOps es un conjunto de estándares, herramientas, procesos y metodologías que buscan optimizar el tiempo, la eficiencia y la calidad, asegurando la gobernanza en los proyectos de ML.\n",
    "\n",
    "MLOps orquesta el ciclo de vida de un proyecto entre los equipos para implementar estas canalizaciones de ML de manera fluida.\n",
    "\n",
    "Databricks está especialmente posicionado para resolver este desafío con el patrón Lakehouse. No solo reunimos a Ingenieros de Datos, Científicos de Datos e Ingenieros de ML en una plataforma única, sino que también proporcionamos herramientas para orquestar proyectos de ML y acelerar la puesta en producción.\n",
    "\n",
    "## Recorrido por el proceso de MLOps\n",
    "\n",
    "En esta demostración, repasaremos algunos pasos comunes en el proceso de MLOps. El resultado de este proceso es un modelo utilizado para alimentar un panel para los interesados del negocio, que incluye:\n",
    "* preparación de características\n",
    "* entrenamiento de un modelo para su despliegue\n",
    "* registro del modelo para que su uso esté gobernado\n",
    "* validación del modelo en un análisis champion-challenger\n",
    "* invocación de un modelo de ML entrenado como un UDF de PySpark\n",
    "\n",
    "\n",
    "<img src=\"https://github.com/databricks-demos/dbdemos-resources/blob/main/images/product/mlops/mlops-uc-end2end-0-v2.png?raw=true\" width=\"1200\">\n",
    "\n",
    "<!-- Recopilar datos de uso (vista). Elimínelo para deshabilitar la recopilación o desactive el rastreador durante la instalación. Consulte el README para más detalles.  -->\n",
    "<img width=\"1px\" src=\"https://ppxrzfxige.execute-api.us-west-2.amazonaws.com/v1/analytics?category=data-science&org_id=1444828305810485&notebook=%2F01-mlops-quickstart%2F00_mlops_end2end_quickstart_presentation&demo_name=mlops-end2end&event=VIEW&path=%2F_dbdemos%2Fdata-science%2Fmlops-end2end%2F01-mlops-quickstart%2F00_mlops_end2end_quickstart_presentation&version=1&user_hash=f7ea13a45c991650d8df810431c3e0e2b12887e9ed7e206ee8fb6209bdb2ae82\">"
   ]
  },
  {
   "cell_type": "markdown",
   "metadata": {
    "application/vnd.databricks.v1+cell": {
     "cellMetadata": {},
     "inputWidgets": {},
     "nuid": "ec8afb31-5f57-44f4-8236-5cb84a305510",
     "showTitle": false,
     "tableResultSettingsMap": {},
     "title": ""
    }
   },
   "source": [
    "### Utilice un cluster Serverless Environment 2 para ejecutar este notebook\n",
    "Para ejecutar esta demostración, simplemente selecciona el cluster `Serverless` en el menú desplegable.\n",
    "Comprueba que la versión del cluster serverless es la número 2 <br />\n"
   ]
  },
  {
   "cell_type": "markdown",
   "metadata": {
    "application/vnd.databricks.v1+cell": {
     "cellMetadata": {},
     "inputWidgets": {},
     "nuid": "3251bc47-22fb-4066-8982-f8ab7d841b9d",
     "showTitle": false,
     "tableResultSettingsMap": {},
     "title": ""
    }
   },
   "source": [
    "\n",
    "<div style=\"text-align: center; line-height: 0; padding-top: 9px;\">\n",
    "  <img src=https://raw.githubusercontent.com/aestaire/ml_workshop/refs/heads/main/files/images/version2-serverless.png>\n",
    "</div>"
   ]
  },
  {
   "cell_type": "markdown",
   "metadata": {
    "application/vnd.databricks.v1+cell": {
     "cellMetadata": {},
     "inputWidgets": {},
     "nuid": "61854221-a62e-4c1c-bd3a-72bdf31b8670",
     "showTitle": false,
     "tableResultSettingsMap": {},
     "title": ""
    }
   },
   "source": [
    "### Se ha creado un cluster para esta demostración\n",
    "Para ejecutar esta demostración, simplemente selecciona el cluster `dbdemos-mlops-end2end` en el menú desplegable ([abrir configuración del clúster](https://e2-demo-field-eng.cloud.databricks.com/#setting/clusters/1013-181446-g00pu2bj/configuration)). <br />\n",
    "*Nota: Si el cluster fue eliminado después de 30 días, puedes recrearlo con `dbdemos.create_cluster('mlops-end2end')` o reinstalar la demostración: `dbdemos.install('mlops-end2end')`*"
   ]
  },
  {
   "cell_type": "markdown",
   "metadata": {
    "application/vnd.databricks.v1+cell": {
     "cellMetadata": {},
     "inputWidgets": {},
     "nuid": "39c36e2c-8fb0-4cee-9794-64740940a763",
     "showTitle": false,
     "tableResultSettingsMap": {},
     "title": ""
    }
   },
   "source": [
    "En este primer quickstart, cubriremos los fundamentos de MLOps.\n",
    "\n",
    "- Servir modelos\n",
    "- Servir características en tiempo real con Online Tables\n",
    "- Pruebas A/B\n",
    "- Reentrenamiento automatizado\n",
    "- Configuración de infraestructura y hooks con Databricks MLOps Stack\n",
    "- ..."
   ]
  },
  {
   "cell_type": "code",
   "execution_count": 0,
   "metadata": {
    "application/vnd.databricks.v1+cell": {
     "cellMetadata": {
      "byteLimit": 2048000,
      "rowLimit": 10000
     },
     "inputWidgets": {},
     "nuid": "8d98e0f3-bace-4dcf-ae6c-2651fa908068",
     "showTitle": false,
     "tableResultSettingsMap": {},
     "title": ""
    }
   },
   "outputs": [],
   "source": [
    "%pip install --quiet mlflow --upgrade\n",
    "\n",
    "\n",
    "%restart_python"
   ]
  },
  {
   "cell_type": "code",
   "execution_count": 0,
   "metadata": {
    "application/vnd.databricks.v1+cell": {
     "cellMetadata": {
      "byteLimit": 2048000,
      "rowLimit": 10000
     },
     "collapsed": true,
     "inputWidgets": {},
     "nuid": "45a19354-fc2f-4400-8731-ad110d4ced9c",
     "showTitle": false,
     "tableResultSettingsMap": {},
     "title": ""
    }
   },
   "outputs": [],
   "source": [
    "%run ./_resources/00-setup"
   ]
  },
  {
   "cell_type": "markdown",
   "metadata": {
    "application/vnd.databricks.v1+cell": {
     "cellMetadata": {},
     "inputWidgets": {},
     "nuid": "415dff07-b1d7-4a46-bf81-fe471e14a95f",
     "showTitle": false,
     "tableResultSettingsMap": {},
     "title": ""
    }
   },
   "source": [
    "## Detección de abandono de clientes\n",
    "\n",
    "Para explorar MLOps, implementaremos un modelo de churn de clientes.\n",
    "\n",
    "Nuestro equipo de marketing nos pidió crear un Panel que rastree la evolución del riesgo de abandono. Además, necesitamos proporcionar a nuestro equipo de renovaciones una lista diaria de clientes en riesgo de churn para aumentar nuestros ingresos finales.\n",
    "\n",
    "Nuestro equipo de ingenieros de datos nos proporcionó un conjunto de datos que recopila información sobre nuestra base de clientes, incluyendo información de abandono. Ahí es donde comienza nuestra implementación.\n",
    "\n",
    "Veamos cómo podemos implementar dicho modelo y proporcionar a nuestros equipos de marketing y renovaciones paneles para rastrear y analizar nuestra predicción de churn.\n",
    "\n",
    "Finalmente, podrás construir un Panel completo de DBSQL de Churn que contenga toda la información de clientes y abandono, ¡y también iniciar un espacio Genie para hacer cualquier pregunta usando lenguaje natural!"
   ]
  },
  {
   "cell_type": "code",
   "execution_count": 0,
   "metadata": {
    "application/vnd.databricks.v1+cell": {
     "cellMetadata": {
      "byteLimit": 2048000,
      "rowLimit": 10000
     },
     "inputWidgets": {},
     "nuid": "76efec6d-0e67-4ddc-bbc3-1c9f9cf9ab96",
     "showTitle": true,
     "tableResultSettingsMap": {},
     "title": "Telco customer dataset exploration"
    }
   },
   "outputs": [],
   "source": [
    "telcoDF = spark.table(\"mlops_churn_bronze_customers\")\n",
    "display(telcoDF)"
   ]
  }
 ],
 "metadata": {
  "application/vnd.databricks.v1+notebook": {
   "computePreferences": {
    "hardware": {
     "accelerator": null,
     "gpuPoolId": null,
     "memory": null
    }
   },
   "dashboards": [],
   "environmentMetadata": {
    "base_environment": "",
    "dependencies": [
     "mlflow"
    ],
    "environment_version": "2"
   },
   "inputWidgetPreferences": null,
   "language": "python",
   "notebookMetadata": {
    "pythonIndentUnit": 2
   },
   "notebookName": "00_mlops_end2end_presentation",
   "widgets": {}
  },
  "language_info": {
   "name": "python"
  }
 },
 "nbformat": 4,
 "nbformat_minor": 0
}

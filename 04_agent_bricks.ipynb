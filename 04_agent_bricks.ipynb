{
 "cells": [
  {
   "cell_type": "markdown",
   "metadata": {
    "application/vnd.databricks.v1+cell": {
     "cellMetadata": {},
     "inputWidgets": {},
     "nuid": "e9612b68-4d71-48b8-a1b7-0079308b156b",
     "showTitle": false,
     "tableResultSettingsMap": {},
     "title": ""
    }
   },
   "source": [
    "\n",
    "<div style=\"text-align: center; line-height: 0; padding-top: 9px;\">\n",
    "  <img src=https://raw.githubusercontent.com/aestaire/ml_workshop/refs/heads/main/files/images/hands-on.png>\n",
    "</div>"
   ]
  },
  {
   "cell_type": "markdown",
   "metadata": {
    "application/vnd.databricks.v1+cell": {
     "cellMetadata": {},
     "inputWidgets": {},
     "nuid": "08cce280-e16f-46f6-83de-c1b3620766f0",
     "showTitle": false,
     "tableResultSettingsMap": {},
     "title": ""
    }
   },
   "source": [
    "## Agent Bricks: Creando un Knowledge Assistant\n",
    "\n",
    "Agent Bricks en Databricks te permite construir asistentes inteligentes que acceden y analizan información relevante de tus datos empresariales. Con Agent Bricks, puedes crear Knowledge Assistants capaces de responder preguntas, extraer insights y proporcionar análisis contextualizados de manera automática.\n",
    "\n",
    "En este notebook aprenderás a:\n",
    "* Configurar un agente especializado utilizando Agent Bricks en Databricks;\n",
    "* Integrar documentos para enriquecer el conocimiento del asistente;\n",
    "* Personalizar el comportamiento del agente para responder consultas específicas y generar análisis.\n",
    "\n",
    "Esta funcionalidad te ayuda a transformar la información en conocimiento accionable, facilitando la toma de decisiones y mejorando la eficiencia en el acceso a datos clave."
   ]
  },
  {
   "cell_type": "markdown",
   "metadata": {
    "application/vnd.databricks.v1+cell": {
     "cellMetadata": {},
     "inputWidgets": {},
     "nuid": "b5e93a45-f2c1-4b6c-95f8-22bcaf2eb6df",
     "showTitle": false,
     "tableResultSettingsMap": {},
     "title": ""
    }
   },
   "source": [
    "En el siguiente ejemplo, _crea_ un esquema con tu nombre para no tener problema de sobreescritura de datos:"
   ]
  },
  {
   "cell_type": "code",
   "execution_count": 0,
   "metadata": {
    "application/vnd.databricks.v1+cell": {
     "cellMetadata": {
      "byteLimit": 2048000,
      "implicitDf": true,
      "rowLimit": 10000
     },
     "inputWidgets": {},
     "nuid": "ac8d1835-67c7-4d31-be34-4b45f15295a3",
     "showTitle": false,
     "tableResultSettingsMap": {},
     "title": ""
    }
   },
   "outputs": [],
   "source": [
    "%sql\n",
    "CREATE SCHEMA IF NOT EXISTS `workshop_databricks`.`demo_agentbricks_nombre`; -- sustituye nombre por el tuyo\n",
    "\n",
    "CREATE VOLUME IF NOT EXISTS `workshop_databricks`.`demo_agentbricks_nombre`.`archivos`; -- sustituye nombre por el tuyo"
   ]
  },
  {
   "cell_type": "code",
   "execution_count": 0,
   "metadata": {
    "application/vnd.databricks.v1+cell": {
     "cellMetadata": {
      "byteLimit": 2048000,
      "rowLimit": 10000
     },
     "inputWidgets": {},
     "nuid": "f99ca492-71f1-444f-a7ae-a9104945957f",
     "showTitle": false,
     "tableResultSettingsMap": {},
     "title": ""
    }
   },
   "outputs": [],
   "source": [
    "catalog = \"workshop_databricks\"\n",
    "schema = \"demo_agentbricks_nombre\" #sustituye nombre por el tuyo\n",
    "volume = \"archivos\"\n",
    "\n",
    "file_name = \"economia_mundial.pdf\"\n",
    "table_name = \"economia_mundial_pdf\"\n",
    "download_url = \"https://raw.githubusercontent.com/aestaire/ml_workshop/refs/heads/main/files/data/economia_mundial.pdf\"\n",
    "path_volume = f\"/Volumes/{catalog}/{schema}/{volume}\"\n",
    "path_table = f\"{catalog}.{schema}\"\n",
    "\n",
    "print(path_table)   # Show the complete path\n",
    "print(path_volume)  # Show the complete path\n",
    "\n",
    "# Copy the CSV file from the URL to the volume\n",
    "dbutils.fs.cp(download_url, f\"{path_volume}/{file_name}\")"
   ]
  },
  {
   "cell_type": "code",
   "execution_count": 0,
   "metadata": {
    "application/vnd.databricks.v1+cell": {
     "cellMetadata": {
      "byteLimit": 2048000,
      "rowLimit": 10000
     },
     "inputWidgets": {},
     "nuid": "3af56ea0-d61a-4cef-80b4-60ae86d3e6f4",
     "showTitle": false,
     "tableResultSettingsMap": {},
     "title": ""
    }
   },
   "outputs": [],
   "source": [
    "from pyspark.sql.functions import expr\n",
    "\n",
    "# Full path for standard Python libraries (like PyPDF)\n",
    "full_file_path = f\"/Volumes/{catalog}/{schema}/{volume}/{file_name}\"\n",
    "\n",
    "# Path for Spark APIs\n",
    "path_volume = f\"/Volumes/{catalog}/{schema}/{volume}\"\n",
    "\n",
    "# Path for table creation\n",
    "path_table = f\"{catalog}.{schema}\"\n",
    "\n",
    "df = spark.read.format(\"binaryFile\").load(full_file_path).withColumn(\n",
    "    \"parsed\",\n",
    "    expr(\"ai_parse_document(content)\"))\n",
    "\n",
    "display(df)"
   ]
  },
  {
   "cell_type": "code",
   "execution_count": 0,
   "metadata": {
    "application/vnd.databricks.v1+cell": {
     "cellMetadata": {
      "byteLimit": 2048000,
      "rowLimit": 10000
     },
     "inputWidgets": {},
     "nuid": "1d27516b-c76e-4a02-b4ce-2a89960e0b90",
     "showTitle": false,
     "tableResultSettingsMap": {},
     "title": ""
    }
   },
   "outputs": [],
   "source": [
    "# Extract all columns from dataframe\n",
    "from pyspark.sql.functions import col, parse_json\n",
    "\n",
    "df_text = df.withColumn(\n",
    "   \"parsed_json\",\n",
    "   parse_json(col(\"parsed\").cast(\"string\"))) \\\n",
    " .selectExpr(\n",
    "   \"path\",\n",
    "   \"parsed_json:document:elements\")\n",
    "\n",
    "display(df_text)"
   ]
  },
  {
   "cell_type": "code",
   "execution_count": 0,
   "metadata": {
    "application/vnd.databricks.v1+cell": {
     "cellMetadata": {
      "byteLimit": 2048000,
      "rowLimit": 10000
     },
     "inputWidgets": {},
     "nuid": "06642603-137a-4028-8817-fd815492fb8a",
     "showTitle": false,
     "tableResultSettingsMap": {},
     "title": ""
    }
   },
   "outputs": [],
   "source": [
    "#Explode into multiple rows with content from each page\n",
    "from pyspark.sql.functions import explode, from_json\n",
    "from pyspark.sql.types import ArrayType, StringType\n",
    "\n",
    "# Define the expected array type for your data\n",
    "array_schema = ArrayType(StringType())\n",
    "\n",
    "# Convert 'elements' (VARIANT) to array by parsing as JSON string\n",
    "df_text2 = df_text.withColumn(\"elements_array\", from_json(col(\"elements\").cast(\"string\"), array_schema))\n",
    "\n",
    "# Explode the new array column\n",
    "df_text3 = df_text2.select(\"path\", explode(col(\"elements_array\")).alias(\"element\"))\n",
    "display(df_text3)"
   ]
  },
  {
   "cell_type": "code",
   "execution_count": 0,
   "metadata": {
    "application/vnd.databricks.v1+cell": {
     "cellMetadata": {
      "byteLimit": 2048000,
      "rowLimit": 10000
     },
     "inputWidgets": {},
     "nuid": "856e8029-e92d-4ccb-8fa9-170eca4ac943",
     "showTitle": false,
     "tableResultSettingsMap": {},
     "title": ""
    }
   },
   "outputs": [],
   "source": [
    "from pyspark.sql.functions import monotonically_increasing_id\n",
    "\n",
    "# Add id to the dataframe\n",
    "df_text4 = df_text3.withColumn(\"id\", monotonically_increasing_id())\n",
    "display(df_text4)"
   ]
  },
  {
   "cell_type": "code",
   "execution_count": 0,
   "metadata": {
    "application/vnd.databricks.v1+cell": {
     "cellMetadata": {
      "byteLimit": 2048000,
      "rowLimit": 10000
     },
     "inputWidgets": {},
     "nuid": "5feb00fa-687c-4bc7-a90e-6bd1912f5068",
     "showTitle": false,
     "tableResultSettingsMap": {},
     "title": ""
    }
   },
   "outputs": [],
   "source": [
    "# Write dataframe to Delta Table\n",
    "df_text4.write.mode(\"overwrite\").option(\"overwriteSchema\", \"true\").saveAsTable(\"workshop_databricks.demo_agentbricks.economia_mundial_pdf\")"
   ]
  },
  {
   "cell_type": "markdown",
   "metadata": {
    "application/vnd.databricks.v1+cell": {
     "cellMetadata": {},
     "inputWidgets": {},
     "nuid": "e0b396d9-5051-4a9a-97d3-510a2e9205e6",
     "showTitle": false,
     "tableResultSettingsMap": {},
     "title": ""
    }
   },
   "source": [
    "## Crear Vector Search Index\n",
    "\n",
    "Un Vector Search Index es una herramienta que permite buscar información usando \"vectores\", que son representaciones numéricas de textos, imágenes o datos. Así, puedes encontrar rápidamente documentos o respuestas similares a lo que preguntas, incluso si usas palabras diferentes."
   ]
  },
  {
   "cell_type": "code",
   "execution_count": 0,
   "metadata": {
    "application/vnd.databricks.v1+cell": {
     "cellMetadata": {
      "byteLimit": 2048000,
      "rowLimit": 10000
     },
     "inputWidgets": {},
     "nuid": "cff87193-1e09-4ba9-b009-c9ff00aa3624",
     "showTitle": false,
     "tableResultSettingsMap": {},
     "title": ""
    }
   },
   "outputs": [],
   "source": [
    "catalog = \"workshop_databricks\"\n",
    "schema = \"demo_agentbricks\"\n",
    "table_name = \"economia_mundial_pdf\"\n",
    "\n",
    "workspace_url = spark.conf.get(\"spark.databricks.workspaceUrl\")\n",
    "table_link = f\"{workspace_url}/explore/data/{catalog}/{schema}/{table_name}\"\n",
    "\n",
    "displayHTML(f\"Access your table here: {table_link}\")"
   ]
  },
  {
   "cell_type": "markdown",
   "metadata": {
    "application/vnd.databricks.v1+cell": {
     "cellMetadata": {},
     "inputWidgets": {},
     "nuid": "6050d137-aa60-490f-85cb-1003da6929b6",
     "showTitle": false,
     "tableResultSettingsMap": {},
     "title": ""
    }
   },
   "source": [
    "<img src=\"./files/images/vsi01.png\" width=\"350\">"
   ]
  },
  {
   "cell_type": "markdown",
   "metadata": {
    "application/vnd.databricks.v1+cell": {
     "cellMetadata": {},
     "inputWidgets": {},
     "nuid": "9ca60b3f-b238-49de-96a8-d0b298d2e819",
     "showTitle": false,
     "tableResultSettingsMap": {},
     "title": ""
    }
   },
   "source": [
    "<img src=\"./files/images/vsi02.png\" width=\"500\">"
   ]
  },
  {
   "cell_type": "markdown",
   "metadata": {
    "application/vnd.databricks.v1+cell": {
     "cellMetadata": {},
     "inputWidgets": {},
     "nuid": "b5ef8c6a-65d6-4cab-beb8-2f9ca9eaf0d0",
     "showTitle": false,
     "tableResultSettingsMap": {},
     "title": ""
    }
   },
   "source": [
    "## Crear Agent Bricks"
   ]
  },
  {
   "cell_type": "markdown",
   "metadata": {
    "application/vnd.databricks.v1+cell": {
     "cellMetadata": {},
     "inputWidgets": {},
     "nuid": "f4bdd00c-660b-42c9-8e7b-d97daa7d15e5",
     "showTitle": false,
     "tableResultSettingsMap": {},
     "title": ""
    }
   },
   "source": [
    "<img src=\"./files/images/agents.png\" width=\"300\">"
   ]
  },
  {
   "cell_type": "markdown",
   "metadata": {
    "application/vnd.databricks.v1+cell": {
     "cellMetadata": {},
     "inputWidgets": {},
     "nuid": "7345d61e-06df-432f-ab99-fe2c4a541b59",
     "showTitle": false,
     "tableResultSettingsMap": {},
     "title": ""
    }
   },
   "source": [
    "<img src=\"./files/images/KA.png\" width=\"500\">"
   ]
  },
  {
   "cell_type": "markdown",
   "metadata": {
    "application/vnd.databricks.v1+cell": {
     "cellMetadata": {},
     "inputWidgets": {},
     "nuid": "e3e7bd24-fdf3-4821-8eab-654d989971b4",
     "showTitle": false,
     "tableResultSettingsMap": {},
     "title": ""
    }
   },
   "source": [
    "<img src=\"./files/images/agentbricks.png\" width=\"1000\">"
   ]
  },
  {
   "cell_type": "markdown",
   "metadata": {
    "application/vnd.databricks.v1+cell": {
     "cellMetadata": {},
     "inputWidgets": {},
     "nuid": "fe633027-950b-4180-a006-b170566895a3",
     "showTitle": false,
     "tableResultSettingsMap": {},
     "title": ""
    }
   },
   "source": [
    "**Description**\n",
    "\n",
    "Agente especializado en el informe 'Actualización de Perspectivas de la Economía Mundial'. Proporciona análisis y datos clave sobre la resiliencia de la economía y la incertidumbre persistente."
   ]
  },
  {
   "cell_type": "markdown",
   "metadata": {
    "application/vnd.databricks.v1+cell": {
     "cellMetadata": {},
     "inputWidgets": {},
     "nuid": "1d282867-e638-4e4b-bb76-7e7b9d92907d",
     "showTitle": false,
     "tableResultSettingsMap": {},
     "title": ""
    }
   },
   "source": [
    "**Describe the content**\n",
    "\n",
    "Informe sobre los últimos datos de crecimiento, proyecciones de inflación o riesgos económicos."
   ]
  },
  {
   "cell_type": "markdown",
   "metadata": {
    "application/vnd.databricks.v1+cell": {
     "cellMetadata": {},
     "inputWidgets": {},
     "nuid": "eb399b6d-3517-4152-a1df-b8b10fe0251a",
     "showTitle": false,
     "tableResultSettingsMap": {},
     "title": ""
    }
   },
   "source": [
    "**Clica en \"Create Agent\"**"
   ]
  },
  {
   "cell_type": "markdown",
   "metadata": {
    "application/vnd.databricks.v1+cell": {
     "cellMetadata": {},
     "inputWidgets": {},
     "nuid": "f591adcc-f702-417e-ba8f-3003194c0a3e",
     "showTitle": false,
     "tableResultSettingsMap": {},
     "title": ""
    }
   },
   "source": [
    "### Playground\n",
    "\n",
    "Playground es un espacio interactivo donde puedes probar y explorar el Knowledge Assistant que creamos. Aquí puedes hacer preguntas sobre el informe de economía mundial y recibir respuestas automáticas basadas en los datos y análisis disponibles. Solo tienes que escribir tu consulta y el asistente te ayudará con información relevante de manera sencilla y rápida."
   ]
  },
  {
   "cell_type": "markdown",
   "metadata": {
    "application/vnd.databricks.v1+cell": {
     "cellMetadata": {},
     "inputWidgets": {},
     "nuid": "def88bc2-98c4-4730-b579-089f0476759d",
     "showTitle": false,
     "tableResultSettingsMap": {},
     "title": ""
    }
   },
   "source": [
    "**Clica en \"Open in Playground\"**"
   ]
  },
  {
   "cell_type": "markdown",
   "metadata": {
    "application/vnd.databricks.v1+cell": {
     "cellMetadata": {},
     "inputWidgets": {},
     "nuid": "593a0f69-1031-4a04-9283-9901a5fb9b43",
     "showTitle": false,
     "tableResultSettingsMap": {},
     "title": ""
    }
   },
   "source": [
    "<img src=\"./files/images/KA2.png\" width=\"1000\">"
   ]
  },
  {
   "cell_type": "markdown",
   "metadata": {
    "application/vnd.databricks.v1+cell": {
     "cellMetadata": {},
     "inputWidgets": {},
     "nuid": "c3c18ea5-e276-49c2-ad62-57153f7d2531",
     "showTitle": false,
     "tableResultSettingsMap": {},
     "title": ""
    }
   },
   "source": [
    "#### Preguntas\n",
    "\n",
    "* Cuáles son las proyecciones económicas para Brasil en 2026?\n",
    "* Y para México?\n",
    "* Cuáles son las políticas para restablecer la confianza y garantizar la sostenibilidad?"
   ]
  },
  {
   "cell_type": "markdown",
   "metadata": {
    "application/vnd.databricks.v1+cell": {
     "cellMetadata": {},
     "inputWidgets": {},
     "nuid": "ac291b62-257b-4e24-ac00-231269ff0fcd",
     "showTitle": false,
     "tableResultSettingsMap": {},
     "title": ""
    }
   },
   "source": [
    "## ¡Felicidades! ¡Has completado tu primer laboratorio de ML, AI functions y Agent bricks!\n",
    "\n",
    "¡Ahora ya sabes cómo utilizar Unity Catalog, entrenar y registrar modelos con MLflow, usar las AI functions y crear un agente utilizando Agent Bricks!"
   ]
  }
 ],
 "metadata": {
  "application/vnd.databricks.v1+notebook": {
   "computePreferences": {
    "hardware": {
     "accelerator": null,
     "gpuPoolId": null,
     "memory": null
    }
   },
   "dashboards": [],
   "environmentMetadata": {
    "base_environment": "",
    "environment_version": "4"
   },
   "inputWidgetPreferences": null,
   "language": "python",
   "notebookMetadata": {
    "mostRecentlyExecutedCommandWithImplicitDF": {
     "commandId": 8149239478214600,
     "dataframes": [
      "_sqldf"
     ]
    },
    "pythonIndentUnit": 2
   },
   "notebookName": "04_agent_bricks",
   "widgets": {}
  },
  "language_info": {
   "name": "python"
  }
 },
 "nbformat": 4,
 "nbformat_minor": 0
}

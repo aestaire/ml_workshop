{
 "cells": [
  {
   "cell_type": "markdown",
   "metadata": {
    "application/vnd.databricks.v1+cell": {
     "cellMetadata": {
      "byteLimit": 2048000,
      "rowLimit": 10000
     },
     "inputWidgets": {},
     "nuid": "b8cf3dff-08cd-44fc-bc3c-b24442b8ce72",
     "showTitle": false,
     "tableResultSettingsMap": {},
     "title": ""
    }
   },
   "source": [
    "\n",
    "<div style=\"text-align: center; line-height: 0; padding-top: 9px;\">\n",
    "  <img src=https://raw.githubusercontent.com/aestaire/ml_workshop/refs/heads/main/files/images/hands-on.png>\n",
    "</div>"
   ]
  },
  {
   "cell_type": "markdown",
   "metadata": {
    "application/vnd.databricks.v1+cell": {
     "cellMetadata": {
      "byteLimit": 2048000,
      "rowLimit": 10000
     },
     "inputWidgets": {},
     "nuid": "7074914a-d886-4905-8429-6ecd6734e4be",
     "showTitle": false,
     "tableResultSettingsMap": {},
     "title": ""
    }
   },
   "source": [
    "# Gestión del ciclo de vida del modelo en Unity Catalog\n",
    "\n",
    "Uno de los principales desafíos entre los científicos de datos e ingenieros de ML es la ausencia de un repositorio central para modelos, sus versiones y los medios para gestionarlos a lo largo de su ciclo de vida.\n",
    "\n",
    "[Modelos en Unity Catalog](https://docs.databricks.com/en/mlflow/models-in-uc.html) aborda este desafío y permite a los miembros del equipo de datos:\n",
    "<br>\n",
    "* **Descubrir** modelos registrados, alias actuales en el desarrollo de modelos, ejecuciones de experimentos y código asociado con un modelo registrado\n",
    "* **Promocionar** modelos a diferentes fases de su ciclo de vida mediante el uso de alias de modelo\n",
    "* **Etiquetar** modelos para capturar metadatos específicos de tu proceso de MLOps\n",
    "* **Desplegar** diferentes versiones de un modelo registrado, ofreciendo a los ingenieros de MLOps la capacidad de desplegar y realizar pruebas de diferentes versiones de modelos\n",
    "* **Probar** modelos de forma automatizada\n",
    "* **Documentar** modelos a lo largo de su ciclo de vida\n",
    "* **Asegurar** el acceso y los permisos para el registro, ejecución o modificaciones de modelos\n",
    "\n",
    "Veremos cómo probamos y promocionamos un nuevo modelo __Challenger__ como candidato para reemplazar un modelo __Champion__ existente.\n",
    "\n",
    "<img src=\"https://github.com/databricks-demos/dbdemos-resources/blob/main/images/product/mlops/mlops-uc-end2end-3-v2.png?raw=true\" width=\"1200\">\n",
    "\n",
    "<!-- Recopilar datos de uso (vista). Elimínalo para deshabilitar la recopilación o desactiva el rastreador durante la instalación. Consulta el README para más detalles.  -->\n",
    "<img width=\"1px\" src=\"https://ppxrzfxige.execute-api.us-west-2.amazonaws.com/v1/analytics?category=data-science&org_id=1444828305810485&notebook=%2F01-mlops-quickstart%2F03_from_notebook_to_models_in_uc&demo_name=mlops-end2end&event=VIEW&path=%2F_dbdemos%2Fdata-science%2Fmlops-end2end%2F01-mlops-quickstart%2F03_from_notebook_to_models_in_uc&version=1&user_hash=f7ea13a45c991650d8df810431c3e0e2b12887e9ed7e206ee8fb6209bdb2ae82\">"
   ]
  },
  {
   "cell_type": "markdown",
   "metadata": {
    "application/vnd.databricks.v1+cell": {
     "cellMetadata": {
      "byteLimit": 2048000,
      "rowLimit": 10000
     },
     "inputWidgets": {},
     "nuid": "95468e2d-28fd-470a-af7b-0e377a9ee610",
     "showTitle": false,
     "tableResultSettingsMap": {},
     "title": ""
    }
   },
   "source": [
    "### Se ha creado un cluster para esta demostración\n",
    "Para ejecutar esta demostración, simplemente selecciona el cluster `dbdemos-mlops-end2end` en el menú desplegable ([abrir configuración del clúster](https://e2-demo-field-eng.cloud.databricks.com/#setting/clusters/1013-181446-g00pu2bj/configuration)). <br />\n",
    "*Nota: Si el cluster fue eliminado después de 30 días, puedes volver a crearlo con `dbdemos.create_cluster('mlops-end2end')` o reinstalar la demostración: `dbdemos.install('mlops-end2end')`*"
   ]
  },
  {
   "cell_type": "code",
   "execution_count": 0,
   "metadata": {
    "application/vnd.databricks.v1+cell": {
     "cellMetadata": {},
     "inputWidgets": {},
     "nuid": "c4282888-b52b-4cfc-8662-c3eeedf20bdf",
     "showTitle": false,
     "tableResultSettingsMap": {},
     "title": ""
    }
   },
   "outputs": [],
   "source": [
    "dbdemos.create_cluster('mlops-end2end')"
   ]
  },
  {
   "cell_type": "markdown",
   "metadata": {
    "application/vnd.databricks.v1+cell": {
     "cellMetadata": {
      "byteLimit": 2048000,
      "rowLimit": 10000
     },
     "inputWidgets": {},
     "nuid": "fe2e86a3-54a7-4df2-b3bb-94f2db6789a5",
     "showTitle": false,
     "tableResultSettingsMap": {},
     "title": ""
    }
   },
   "source": [
    "## Cómo usar Modelos en Unity Catalog\n",
    "Típicamente, los científicos de datos que usan MLflow realizarán muchos experimentos, cada uno con varias ejecuciones que rastrean y registran métricas y parámetros. Durante el ciclo de desarrollo, seleccionarán la mejor ejecución dentro de un experimento y registrarán su modelo en Unity Catalog. Piensa en esto como **hacer commit** del modelo en Unity Catalog, de la misma manera que harías commit de código en un sistema de control de versiones.\n",
    "\n",
    "Unity Catalog propone alias de modelo en texto libre, por ejemplo, `Baseline`, `Challenger`, `Champion`, junto con el uso de etiquetas.\n",
    "\n",
    "Los usuarios con los permisos apropiados pueden crear modelos, modificar alias y etiquetas, usar modelos, etc."
   ]
  },
  {
   "cell_type": "markdown",
   "metadata": {
    "application/vnd.databricks.v1+cell": {
     "cellMetadata": {
      "byteLimit": 2048000,
      "rowLimit": 10000
     },
     "inputWidgets": {},
     "nuid": "1ccf1e59-73b1-4013-8126-eff15bbd3520",
     "showTitle": false,
     "tableResultSettingsMap": {},
     "title": ""
    }
   },
   "source": [
    "Último ambiente testado:\n",
    "\n",
    "mlflow==3.3.0"
   ]
  },
  {
   "cell_type": "code",
   "execution_count": 0,
   "metadata": {
    "application/vnd.databricks.v1+cell": {
     "cellMetadata": {
      "byteLimit": 2048000,
      "rowLimit": 10000
     },
     "inputWidgets": {},
     "nuid": "7fa4b6f3-8090-4612-a613-e85f8b42b5e4",
     "showTitle": true,
     "tableResultSettingsMap": {},
     "title": "Install MLflow version for model lineage in UC [for MLR < 15.2]"
    }
   },
   "outputs": [],
   "source": [
    "%pip install --quiet mlflow --upgrade\n",
    "\n",
    "\n",
    "%restart_python"
   ]
  },
  {
   "cell_type": "code",
   "execution_count": 0,
   "metadata": {
    "application/vnd.databricks.v1+cell": {
     "cellMetadata": {
      "byteLimit": 2048000,
      "rowLimit": 10000
     },
     "inputWidgets": {},
     "nuid": "05940e64-239b-4e97-ba64-0e9ebb6c5152",
     "showTitle": false,
     "tableResultSettingsMap": {},
     "title": ""
    },
    "jupyter": {
     "outputs_hidden": true
    }
   },
   "outputs": [],
   "source": [
    "%run ./_resources/00-setup"
   ]
  },
  {
   "cell_type": "markdown",
   "metadata": {
    "application/vnd.databricks.v1+cell": {
     "cellMetadata": {
      "byteLimit": 2048000,
      "rowLimit": 10000
     },
     "inputWidgets": {},
     "nuid": "c7186976-255e-411d-9af1-0512fb49ab75",
     "showTitle": false,
     "tableResultSettingsMap": {},
     "title": ""
    }
   },
   "source": [
    "## Encontrar programáticamente la mejor ejecución y registrar el modelo en Unity Catalog para validación\n",
    "\n",
    "Hemos completado las ejecuciones de entrenamiento para encontrar un modelo candidato __Challenger__. Seleccionaremos programáticamente el mejor modelo de nuestro último experimento de ML y lo registraremos en Unity Catalog. Podemos hacerlo fácilmente usando la API `search_runs` de MLflow:"
   ]
  },
  {
   "cell_type": "code",
   "execution_count": 0,
   "metadata": {
    "application/vnd.databricks.v1+cell": {
     "cellMetadata": {
      "byteLimit": 2048000,
      "rowLimit": 10000
     },
     "inputWidgets": {},
     "nuid": "eae5fad8-1007-4a29-9e5c-5d73c30b308a",
     "showTitle": false,
     "tableResultSettingsMap": {},
     "title": ""
    }
   },
   "outputs": [],
   "source": [
    "model_name = f\"{catalog}.{db}.mlops_churn\""
   ]
  },
  {
   "cell_type": "code",
   "execution_count": 0,
   "metadata": {
    "application/vnd.databricks.v1+cell": {
     "cellMetadata": {
      "byteLimit": 2048000,
      "rowLimit": 10000
     },
     "inputWidgets": {},
     "nuid": "6b01688b-6e57-4b79-805a-7358efedb375",
     "showTitle": false,
     "tableResultSettingsMap": {},
     "title": ""
    }
   },
   "outputs": [],
   "source": [
    "print(f\"Finding best run from {xp_name} and pushing new model version to {model_name}\")\n",
    "mlflow.set_experiment(f\"{xp_path}/{xp_name}\")"
   ]
  },
  {
   "cell_type": "code",
   "execution_count": 0,
   "metadata": {
    "application/vnd.databricks.v1+cell": {
     "cellMetadata": {
      "byteLimit": 2048000,
      "rowLimit": 10000
     },
     "inputWidgets": {},
     "nuid": "80f79005-777a-41ba-8e9c-e830795d183f",
     "showTitle": false,
     "tableResultSettingsMap": {},
     "title": ""
    }
   },
   "outputs": [],
   "source": [
    "import mlflow\n",
    "\n",
    "\n",
    "xp_name = \"dbdemos_mlops_churn_demo_quickstart\"\n",
    "print(f\"Finding best run from {xp_name}_* and pushing new model version to {model_name}\")\n",
    "xp_path = f\"/Users/{current_user}\"\n",
    "\n",
    "mlflow.set_experiment(f\"{xp_path}/{xp_name}\")\n",
    "\n",
    "\n",
    "experiment_id = mlflow.search_experiments(filter_string=f\"name LIKE '{xp_path}/{xp_name}%'\", order_by=[\"last_update_time DESC\"])[0].experiment_id\n",
    "print(experiment_id)"
   ]
  },
  {
   "cell_type": "code",
   "execution_count": 0,
   "metadata": {
    "application/vnd.databricks.v1+cell": {
     "cellMetadata": {
      "byteLimit": 2048000,
      "rowLimit": 10000
     },
     "inputWidgets": {},
     "nuid": "c37fe803-d884-4ecf-9de5-60ae66fe9c33",
     "showTitle": false,
     "tableResultSettingsMap": {},
     "title": ""
    }
   },
   "outputs": [],
   "source": [
    "# Let's get our best ml run\n",
    "best_model = mlflow.search_runs(\n",
    "  experiment_ids=experiment_id,\n",
    "  order_by=[\"metrics.val_f1_score DESC\"],\n",
    "  max_results=1,\n",
    "  filter_string=\"status = 'FINISHED' and run_name='light_gbm_baseline'\" #filter on mlops_best_run to always use the notebook 02 to have a more predictable demo\n",
    ")\n",
    "# Optional: Load MLflow Experiment as a spark df and see all runs\n",
    "# df = spark.read.format(\"mlflow-experiment\").load(experiment_id)\n",
    "best_model"
   ]
  },
  {
   "cell_type": "markdown",
   "metadata": {
    "application/vnd.databricks.v1+cell": {
     "cellMetadata": {
      "byteLimit": 2048000,
      "rowLimit": 10000
     },
     "inputWidgets": {},
     "nuid": "20d7a318-760f-4bd9-8c5e-7ef12d13a405",
     "showTitle": false,
     "tableResultSettingsMap": {},
     "title": ""
    }
   },
   "source": [
    "Una vez que tengamos nuestro mejor modelo, podemos registrarlo en el Unity Catalog Model Registry usando su run ID."
   ]
  },
  {
   "cell_type": "code",
   "execution_count": 0,
   "metadata": {
    "application/vnd.databricks.v1+cell": {
     "cellMetadata": {
      "byteLimit": 2048000,
      "rowLimit": 10000
     },
     "inputWidgets": {},
     "nuid": "10fdbb29-8f4b-42ca-bd22-2a6795772b45",
     "showTitle": false,
     "tableResultSettingsMap": {},
     "title": ""
    }
   },
   "outputs": [],
   "source": [
    "print(f\"Registering model to {model_name}\")  # {model_name} is defined in the setup script\n",
    "\n",
    "# Get the run id from the best model\n",
    "run_id = best_model.iloc[0]['run_id']\n",
    "\n",
    "# Register the best model from experiments run to MLflow model registry\n",
    "model_details = mlflow.register_model(f\"runs:/{run_id}/sklearn_model\", model_name)"
   ]
  },
  {
   "cell_type": "markdown",
   "metadata": {
    "application/vnd.databricks.v1+cell": {
     "cellMetadata": {
      "byteLimit": 2048000,
      "rowLimit": 10000
     },
     "inputWidgets": {},
     "nuid": "ca0b3555-009e-4bca-9cb9-1f3c98143a15",
     "showTitle": false,
     "tableResultSettingsMap": {},
     "title": ""
    }
   },
   "source": [
    "En este punto, el modelo aún no tiene alias ni descripciones que indiquen su ciclo de vida y meta-datos/información. Vamos a actualizar esta información."
   ]
  },
  {
   "cell_type": "markdown",
   "metadata": {
    "application/vnd.databricks.v1+cell": {
     "cellMetadata": {
      "byteLimit": 2048000,
      "rowLimit": 10000
     },
     "inputWidgets": {},
     "nuid": "fc51a94e-304e-4403-8fd4-3107d9409bd3",
     "showTitle": false,
     "tableResultSettingsMap": {},
     "title": ""
    }
   },
   "source": [
    "## Dar una descripción al modelo registrado\n",
    "\n",
    "Haremos esto de forma general para el modelo registrado."
   ]
  },
  {
   "cell_type": "code",
   "execution_count": 0,
   "metadata": {
    "application/vnd.databricks.v1+cell": {
     "cellMetadata": {
      "byteLimit": 2048000,
      "rowLimit": 10000
     },
     "inputWidgets": {},
     "nuid": "a75e1981-1959-4b26-9776-47ac00d205be",
     "showTitle": false,
     "tableResultSettingsMap": {},
     "title": ""
    }
   },
   "outputs": [],
   "source": [
    "from mlflow import MlflowClient\n",
    "\n",
    "\n",
    "client = MlflowClient()\n",
    "\n",
    "# The main model description is typically done once.\n",
    "client.update_registered_model(\n",
    "  name=model_details.name,\n",
    "  description=\"This model predicts whether a customer will churn using the features in the mlops_churn_training table. It is used to power the Telco Churn Dashboard in DB SQL.\",\n",
    ")"
   ]
  },
  {
   "cell_type": "markdown",
   "metadata": {
    "application/vnd.databricks.v1+cell": {
     "cellMetadata": {
      "byteLimit": 2048000,
      "rowLimit": 10000
     },
     "inputWidgets": {},
     "nuid": "9a8de63a-6b78-4486-8416-81b8736c66fc",
     "showTitle": false,
     "tableResultSettingsMap": {},
     "title": ""
    }
   },
   "source": [
    "Y agrega más detalles sobre la nueva versión que acabamos de registrar"
   ]
  },
  {
   "cell_type": "code",
   "execution_count": 0,
   "metadata": {
    "application/vnd.databricks.v1+cell": {
     "cellMetadata": {
      "byteLimit": 2048000,
      "rowLimit": 10000
     },
     "inputWidgets": {},
     "nuid": "81af0192-0532-4538-ba1d-a093bff7a4f4",
     "showTitle": false,
     "tableResultSettingsMap": {},
     "title": ""
    }
   },
   "outputs": [],
   "source": [
    "# Provide more details on this specific model version\n",
    "best_score = best_model['metrics.val_f1_score'].values[0]\n",
    "run_name = best_model['tags.mlflow.runName'].values[0]\n",
    "version_desc = f\"This model version has an F1 validation metric of {round(best_score,4)*100}%. Follow the link to its training run for more details.\"\n",
    "\n",
    "client.update_model_version(\n",
    "  name=model_details.name,\n",
    "  version=model_details.version,\n",
    "  description=version_desc\n",
    ")\n",
    "\n",
    "# We can also tag the model version with the F1 score for visibility\n",
    "client.set_model_version_tag(\n",
    "  name=model_details.name,\n",
    "  version=model_details.version,\n",
    "  key=\"f1_score\",\n",
    "  value=f\"{round(best_score,4)}\"\n",
    ")"
   ]
  },
  {
   "cell_type": "markdown",
   "metadata": {
    "application/vnd.databricks.v1+cell": {
     "cellMetadata": {
      "byteLimit": 2048000,
      "rowLimit": 10000
     },
     "inputWidgets": {},
     "nuid": "11f09b05-6e34-4d31-a7d7-bc92721fe546",
     "showTitle": false,
     "tableResultSettingsMap": {},
     "title": ""
    }
   },
   "source": [
    "## Establecer la última versión del modelo como modelo Baseline/Challenger\n",
    "\n",
    "Vamos a establecer esta nueva versión registrada del modelo como el modelo __Challenger__ _(o __Baseline__)_. Los modelos Challenger son candidatos para reemplazar el modelo Champion, que es el modelo actualmente en uso.\n",
    "\n",
    "Usaremos el alias del modelo para indicar la etapa en la que se encuentra en su ciclo de vida."
   ]
  },
  {
   "cell_type": "code",
   "execution_count": 0,
   "metadata": {
    "application/vnd.databricks.v1+cell": {
     "cellMetadata": {
      "byteLimit": 2048000,
      "rowLimit": 10000
     },
     "inputWidgets": {},
     "nuid": "00a67ab7-3618-4b8b-93f0-dea3f7434065",
     "showTitle": false,
     "tableResultSettingsMap": {},
     "title": ""
    }
   },
   "outputs": [],
   "source": [
    "# Set this version as the Challenger model, using its model alias\n",
    "client.set_registered_model_alias(\n",
    "  name=model_name,\n",
    "  alias=\"Challenger\", # Baseline\n",
    "  version=model_details.version\n",
    ")"
   ]
  },
  {
   "cell_type": "markdown",
   "metadata": {
    "application/vnd.databricks.v1+cell": {
     "cellMetadata": {
      "byteLimit": 2048000,
      "rowLimit": 10000
     },
     "inputWidgets": {},
     "nuid": "a8b92ed8-1a00-4b08-b68a-cafa5e1dc976",
     "showTitle": false,
     "tableResultSettingsMap": {},
     "title": ""
    }
   },
   "source": [
    "\n",
    "Ahora, inspecciona visualmente las versiones del modelo en Unity Catalog Explorer. Deberías ver la descripción de la versión y el alias `Challenger` aplicado a la versión."
   ]
  },
  {
   "cell_type": "markdown",
   "metadata": {
    "application/vnd.databricks.v1+cell": {
     "cellMetadata": {
      "byteLimit": 2048000,
      "rowLimit": 10000
     },
     "inputWidgets": {},
     "nuid": "00961c01-c52f-4074-a818-a4fe583837ba",
     "showTitle": false,
     "tableResultSettingsMap": {},
     "title": ""
    }
   },
   "source": [
    "## Próximo: Validación del modelo Challenger\n",
    "\n",
    "En este punto, con el modelo __Challenger__ registrado, queremos validar el modelo. Los pasos de validación se implementan en un notebook para que el proceso de validación pueda ser automatizado como parte de un trabajo de Databricks Workflow.\n",
    "\n",
    "Si el modelo pasa todas las pruebas, será promovido a `Champion`.\n",
    "\n",
    "Próximo: Descubre cómo se está probando el modelo antes de ser promovido a `Champion` [usando el notebook de validación de modelos]($./04_challenger_validation)"
   ]
  }
 ],
 "metadata": {
  "application/vnd.databricks.v1+notebook": {
   "computePreferences": {
    "hardware": {
     "accelerator": "A10",
     "gpuPoolId": null,
     "memory": null
    }
   },
   "dashboards": [],
   "environmentMetadata": {
    "base_environment": "",
    "dependencies": [
     "mlflow-skinny[databricks]"
    ],
    "environment_version": "4"
   },
   "inputWidgetPreferences": null,
   "language": "python",
   "notebookMetadata": {
    "pythonIndentUnit": 2
   },
   "notebookName": "04_from_notebook_to_models_in_uc",
   "widgets": {}
  },
  "language_info": {
   "name": "python"
  }
 },
 "nbformat": 4,
 "nbformat_minor": 0
}

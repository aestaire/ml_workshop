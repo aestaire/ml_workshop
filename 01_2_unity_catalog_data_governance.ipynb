{
 "cells": [
  {
   "cell_type": "markdown",
   "metadata": {
    "application/vnd.databricks.v1+cell": {
     "cellMetadata": {
      "byteLimit": 2048000,
      "rowLimit": 10000
     },
     "inputWidgets": {},
     "nuid": "2718a7a0-ca5a-4d27-b02e-abad673b3552",
     "showTitle": false,
     "tableResultSettingsMap": {},
     "title": ""
    }
   },
   "source": [
    "\n",
    "<div style=\"text-align: center; line-height: 0; padding-top: 9px;\">\n",
    "  <img src=https://raw.githubusercontent.com/aestaire/ml_workshop/refs/heads/main/files/images/hands-on.png>\n",
    "</div>"
   ]
  },
  {
   "cell_type": "markdown",
   "metadata": {
    "application/vnd.databricks.v1+cell": {
     "cellMetadata": {
      "byteLimit": 2048000,
      "rowLimit": 10000
     },
     "inputWidgets": {},
     "isMarkdownSandbox": true,
     "nuid": "d580dbd2-99d9-4498-ba74-f4a739370be8",
     "showTitle": false,
     "tableResultSettingsMap": {},
     "title": ""
    }
   },
   "source": [
    "# Garantizando la gobernanza y seguridad para nuestro lakehouse\n",
    "\n",
    "La gobernanza y seguridad de datos es difícil cuando se trata de una plataforma de datos completa. El comando SQL GRANT en tablas no es suficiente y la seguridad debe aplicarse a múltiples activos de datos (tableros, modelos, archivos, etc.).\n",
    "\n",
    "Para reducir riesgos y fomentar la innovación, el equipo de Gobernanza de Datos necesita:\n",
    "\n",
    "- Unificar todos los activos de datos (Tablas, Archivos, Modelos de ML, Características, Tableros, Consultas)\n",
    "- Incorporar datos con múltiples equipos\n",
    "- Compartir y monetizar activos con organizaciones externas\n",
    "\n",
    "<style>\n",
    ".box{\n",
    "  box-shadow: 20px -20px #CCC; height:300px; box-shadow:  0 0 10px  rgba(0,0,0,0.3); padding: 5px 10px 0px 10px;}\n",
    ".badge {\n",
    "  clear: left; float: left; height: 30px; width: 30px;  display: table-cell; vertical-align: middle; border-radius: 50%; background: #fcba33ff; text-align: center; color: white; margin-right: 10px}\n",
    ".badge_b { \n",
    "  height: 35px}\n",
    "</style>\n",
    "<link href='https://fonts.googleapis.com/css?family=DM Sans' rel='stylesheet'>\n",
    "<div style=\"padding: 20px; font-family: 'DM Sans'; color: #1b5162\">\n",
    "  <div style=\"width:200px; float: left; text-align: center\">\n",
    "    <div class=\"box\" style=\"\">\n",
    "      <div style=\"font-size: 26px;\">\n",
    "        <strong>Equipo A</strong>\n",
    "      </div>\n",
    "      <div style=\"font-size: 13px\">\n",
    "        <img src=\"https://github.com/databricks-demos/dbdemos-resources/raw/main/images/alice.png\" style=\"\" width=\"60px\"> <br/>\n",
    "        Analistas de Datos<br/>\n",
    "        <img src=\"https://github.com/databricks-demos/dbdemos-resources/raw/main/images/marc.png\" style=\"\" width=\"60px\"> <br/>\n",
    "        Científicos de Datos<br/>\n",
    "        <img src=\"https://github.com/databricks-demos/dbdemos-resources/raw/main/images/john.png\" style=\"\" width=\"60px\"> <br/>\n",
    "        Ingenieros de Datos\n",
    "      </div>\n",
    "    </div>\n",
    "    <div class=\"box\" style=\"height: 80px; margin: 20px 0px 50px 0px\">\n",
    "      <div style=\"font-size: 26px;\">\n",
    "        <strong>Equipo B</strong>\n",
    "      </div>\n",
    "      <div style=\"font-size: 13px\">...</div>\n",
    "    </div>\n",
    "  </div>\n",
    "  <div style=\"float: left; width: 400px; padding: 0px 20px 0px 20px\">\n",
    "    <div style=\"margin: 20px 0px 0px 20px\">Permisos en consultas, tableros</div>\n",
    "    <img src=\"https://github.com/databricks-demos/dbdemos-resources/raw/main/images/horizontal-arrow-dash.png\" style=\"width: 400px\">\n",
    "    <div style=\"margin: 20px 0px 0px 20px\">Permisos en tablas, columnas, filas</div>\n",
    "    <img src=\"https://github.com/databricks-demos/dbdemos-resources/raw/main/images/horizontal-arrow-dash.png\" style=\"width: 400px\">\n",
    "    <div style=\"margin: 20px 0px 0px 20px\">Permisos en características, modelos de ML, endpoints, notebooks…</div>\n",
    "    <img src=\"https://github.com/databricks-demos/dbdemos-resources/raw/main/images/horizontal-arrow-dash.png\" style=\"width: 400px\">\n",
    "    <div style=\"margin: 20px 0px 0px 20px\">Permisos en archivos, trabajos</div>\n",
    "    <img src=\"https://github.com/databricks-demos/dbdemos-resources/raw/main/images/horizontal-arrow-dash.png\" style=\"width: 400px\">\n",
    "  </div>\n",
    "  \n",
    "  <div class=\"box\" style=\"width:550px; float: left\">\n",
    "    <img src=\"https://github.com/databricks-demos/dbdemos-resources/raw/main/images/emily.png\" style=\"float: left; margin-right: 10px;\" width=\"80px\"> \n",
    "    <div style=\"float: left; font-size: 26px; margin-top: 0px; line-height: 17px;\"><strong>Andrea</strong> <br />Gobernanza y Seguridad</div>\n",
    "    <div style=\"font-size: 17px; clear: left; padding-top: 10px\">\n",
    "      <ul style=\"line-height: 2px;\">\n",
    "        <li>Catálogo central - todos los activos de datos</li>\n",
    "        <li>Exploración y descubrimiento de datos para desbloquear nuevos casos de uso</li>\n",
    "        <li>Permisos entre equipos</li>\n",
    "        <li>Reducir riesgos con registros de auditoría</li>\n",
    "        <li>Medir el impacto con linaje</li>\n",
    "      </ul>\n",
    "      + Monetizar y compartir datos con organizaciones externas (Delta Sharing)\n",
    "    </div>\n",
    "  </div>\n",
    "</div>\n",
    "\n",
    "<!-- Recopilar datos de uso (vista). Elimínelo para deshabilitar la recopilación o desactive el rastreador durante la instalación. Vea el README para más detalles.  -->\n",
    "<img width=\"1px\" src=\"https://ppxrzfxige.execute-api.us-west-2.amazonaws.com/v1/analytics?category=lakehouse&org_id=1444828305810485&notebook=%2F02-Data-governance%2F02.1-UC-data-governance-security-churn&demo_name=lakehouse-retail-c360&event=VIEW&path=%2F_dbdemos%2Flakehouse%2Flakehouse-retail-c360%2F02-Data-governance%2F02.1-UC-data-governance-security-churn&version=1&user_hash=f7ea13a45c991650d8df810431c3e0e2b12887e9ed7e206ee8fb6209bdb2ae82\">"
   ]
  },
  {
   "cell_type": "markdown",
   "metadata": {
    "application/vnd.databricks.v1+cell": {
     "cellMetadata": {
      "byteLimit": 2048000,
      "rowLimit": 10000
     },
     "inputWidgets": {},
     "nuid": "d5bf0fe0-3291-498b-940d-746b38161944",
     "showTitle": false,
     "tableResultSettingsMap": {},
     "title": ""
    }
   },
   "source": [
    "### Utilice un cluster Serverless Environment 2 para ejecutar este notebook\n",
    "Para ejecutar esta demostración, simplemente selecciona el cluster `Serverless` en el menú desplegable.\n",
    "Comprueba que la versión del cluster serverless es la número 2 <br />\n"
   ]
  },
  {
   "cell_type": "markdown",
   "metadata": {
    "application/vnd.databricks.v1+cell": {
     "cellMetadata": {
      "byteLimit": 2048000,
      "rowLimit": 10000
     },
     "inputWidgets": {},
     "nuid": "3e3cba22-57c7-424b-96a2-832323ba5fb0",
     "showTitle": false,
     "tableResultSettingsMap": {},
     "title": ""
    }
   },
   "source": [
    "\n",
    "![](./files/images/version2-serverless.png)"
   ]
  },
  {
   "cell_type": "markdown",
   "metadata": {
    "application/vnd.databricks.v1+cell": {
     "cellMetadata": {
      "byteLimit": 2048000,
      "rowLimit": 10000
     },
     "inputWidgets": {},
     "isMarkdownSandbox": true,
     "nuid": "077961bc-8733-4c80-8ed7-5b28c3af1cf0",
     "showTitle": false,
     "tableResultSettingsMap": {},
     "title": ""
    }
   },
   "source": [
    "# Gobernanza de Datos Escalable con Unity Catalog  \n",
    "\n",
    "<img src=\"https://github.com/databricks-demos/dbdemos-resources/blob/main/images/cross_demo_assets/Lakehouse_Demo_Team_architecture_2.png?raw=true\" style=\"float: right\" width=\"500px\">\n",
    "\n",
    "\n",
    "Gestionar el acceso seguro y escalable a los datos es fundamental. Con **Unity Catalog**, el **Lakehouse** permite una gobernanza sencilla mientras asegura que los equipos puedan colaborar eficientemente.  \n",
    "\n",
    "### El Desafío  \n",
    "Nuestros datos, almacenados como **Tablas Delta**, deben estar protegidos pero accesibles para diferentes equipos:  \n",
    "- **Ingenieros de Datos** gestionan y actualizan los conjuntos de datos principales.  \n",
    "- **Científicos de Datos** leen tablas finales y refinan conjuntos de características.  \n",
    "- **Analistas** exploran y transforman datos dentro de esquemas gobernados.  \n",
    "- **El acceso se enmascara/anónima dinámicamente** según los roles de usuario.  \n",
    "\n",
    "### La Solución: Unity Catalog  \n",
    "Al centralizar el control de acceso, **Unity Catalog** permite:  \n",
    "✅ **ACLs** de grano fino  \n",
    "✅ **Registros de auditoría** para cumplimiento  \n",
    "✅ **Linaje de datos** para transparencia  \n",
    "✅ **Exploración y descubrimiento sencillos**  \n",
    "✅ **Compartición de datos sin fricciones** entre equipos y organizaciones (**Delta Sharing**)  \n",
    "\n",
    "Con **Unity Catalog**, los equipos pueden gestionar con confianza la **gobernanza, seguridad y colaboración** entre espacios de trabajo. 🚀"
   ]
  },
  {
   "cell_type": "code",
   "execution_count": 0,
   "metadata": {
    "application/vnd.databricks.v1+cell": {
     "cellMetadata": {
      "byteLimit": 2048000,
      "rowLimit": 10000
     },
     "inputWidgets": {},
     "nuid": "dff33015-71dc-4c68-9eb2-8dc9d57731a4",
     "showTitle": false,
     "tableResultSettingsMap": {},
     "title": ""
    },
    "jupyter": {
     "outputs_hidden": true
    }
   },
   "outputs": [],
   "source": [
    "%run ./_resources/00-setup $reset_all_data=false"
   ]
  },
  {
   "cell_type": "markdown",
   "metadata": {
    "application/vnd.databricks.v1+cell": {
     "cellMetadata": {
      "byteLimit": 2048000,
      "rowLimit": 10000
     },
     "inputWidgets": {},
     "isMarkdownSandbox": true,
     "nuid": "535bb7a7-fe2e-45f3-915e-1d95115bf6e8",
     "showTitle": false,
     "tableResultSettingsMap": {},
     "title": ""
    }
   },
   "source": [
    "## Explorando nuestra base de datos\n",
    "\n",
    "<img src=\"https://github.com/QuentinAmbard/databricks-demo/raw/main/product_demos/uc/uc-base-1.png\" style=\"float: right\" width=\"800px\"/> \n",
    "\n",
    "Vamos a revisar los datos creados.\n",
    "\n",
    "Unity Catalog funciona con 3 capas:\n",
    "\n",
    "* CATÁLOGO\n",
    "* SCHEMA (o BASE DE DATOS)\n",
    "* TABLA\n",
    "\n",
    "Todo Unity Catalog está disponible con SQL (`CREATE CATALOG IF NOT EXISTS mi_catalogo` ...)\n",
    "\n",
    "Para acceder a una tabla, puedes especificar la ruta completa: `SELECT * FROM <CATÁLOGO>.<ESQUEMA>.<TABLA>`"
   ]
  },
  {
   "cell_type": "code",
   "execution_count": 0,
   "metadata": {
    "application/vnd.databricks.v1+cell": {
     "cellMetadata": {
      "byteLimit": 2048000,
      "rowLimit": 10000
     },
     "inputWidgets": {},
     "nuid": "c67ef8d1-9459-402b-ab90-163f7505a757",
     "showTitle": false,
     "tableResultSettingsMap": {
      "0": {
       "dataGridStateBlob": "{\"version\":1,\"tableState\":{\"columnPinning\":{\"left\":[\"#row_number#\"],\"right\":[]},\"columnSizing\":{},\"columnVisibility\":{}},\"settings\":{\"columns\":{}},\"syncTimestamp\":1761331992923}",
       "filterBlob": null,
       "queryPlanFiltersBlob": null,
       "tableResultIndex": 0
      }
     },
     "title": ""
    }
   },
   "outputs": [],
   "source": [
    "SELECT CURRENT_CATALOG();"
   ]
  },
  {
   "cell_type": "code",
   "execution_count": 0,
   "metadata": {
    "application/vnd.databricks.v1+cell": {
     "cellMetadata": {
      "byteLimit": 2048000,
      "rowLimit": 10000
     },
     "inputWidgets": {},
     "nuid": "6780f479-a169-4602-841d-6d23edfede6b",
     "showTitle": false,
     "tableResultSettingsMap": {},
     "title": ""
    }
   },
   "outputs": [],
   "source": [
    "SELECT CURRENT_SCHEMA();"
   ]
  },
  {
   "cell_type": "markdown",
   "metadata": {
    "application/vnd.databricks.v1+cell": {
     "cellMetadata": {
      "byteLimit": 2048000,
      "rowLimit": 10000
     },
     "inputWidgets": {},
     "isMarkdownSandbox": true,
     "nuid": "7d373c90-dfe6-4159-98fc-cb5765b3c4dc",
     "showTitle": false,
     "tableResultSettingsMap": {},
     "title": ""
    }
   },
   "source": [
    "\n",
    "## Revisemos las tablas que creamos bajo nuestro schema\n",
    "\n",
    "<img src=\"https://raw.githubusercontent.com/QuentinAmbard/databricks-demo/main/retail/resources/images/lakehouse-retail/lakehouse-retail-churn-data-explorer.gif\" style=\"float: right\" width=\"800px\"/> \n",
    "\n",
    "Unity Catalog proporciona un completo Explorador de Datos al que puedes acceder en el menú de la izquierda.\n",
    "\n",
    "Encontrarás todas tus tablas y podrás usarlo para acceder y administrar tus tablas.\n",
    "\n",
    "Podrán crear tablas adicionales en este esquema.\n",
    "\n",
    "### Descubribimiento\n",
    "\n",
    "Además, Unity Catalog también facilita la exploración y el descubrimiento de datos.\n",
    "\n",
    "Cualquier persona con acceso a las tablas podrá buscarlas y analizar su uso principal. <br>\n",
    "Puedes usar el menú de Búsqueda (⌘ + P) para navegar por tus activos de datos (tablas, notebooks, consultas...)"
   ]
  },
  {
   "cell_type": "code",
   "execution_count": 0,
   "metadata": {
    "application/vnd.databricks.v1+cell": {
     "cellMetadata": {
      "byteLimit": 2048000,
      "rowLimit": 10000
     },
     "inputWidgets": {},
     "nuid": "1779b320-0b52-4283-a950-3b8915f0ec60",
     "showTitle": true,
     "tableResultSettingsMap": {
      "0": {
       "dataGridStateBlob": "{\"version\":1,\"tableState\":{\"columnPinning\":{\"left\":[\"#row_number#\"],\"right\":[]},\"columnSizing\":{\"database\":191},\"columnVisibility\":{}},\"settings\":{\"columns\":{}},\"syncTimestamp\":1761328273684}",
       "filterBlob": null,
       "queryPlanFiltersBlob": null,
       "tableResultIndex": 0
      }
     },
     "title": "As you can see, our tables are available under our catalog."
    }
   },
   "outputs": [],
   "source": [
    "SHOW TABLES"
   ]
  },
  {
   "cell_type": "code",
   "execution_count": 0,
   "metadata": {
    "application/vnd.databricks.v1+cell": {
     "cellMetadata": {
      "byteLimit": 2048000,
      "rowLimit": 10000
     },
     "inputWidgets": {},
     "nuid": "ea2eef48-8f90-4442-ae84-e624ac435519",
     "showTitle": true,
     "tableResultSettingsMap": {},
     "title": "Granting access to Analysts & Data Engineers:"
    }
   },
   "outputs": [],
   "source": [
    "-- Vamos a otorgar a nuestros ANALISTAS el permiso de SELECT:\n",
    "-- Nota: asegúrate de haber creado previamente los grupos analysts y dataengineers desde la consola de la cuenta.\n",
    "GRANT SELECT ON TABLE mlops_churn_bronze_customers TO `analysts`;\n",
    "\n",
    "-- Otorgaremos un permiso adicional de MODIFY a nuestro Ingeniero de Datos\n",
    "GRANT SELECT, MODIFY ON SCHEMA workshop_databricks.dbdemos_mlops_andrea TO `dataengineers`;"
   ]
  },
  {
   "cell_type": "markdown",
   "metadata": {
    "application/vnd.databricks.v1+cell": {
     "cellMetadata": {
      "byteLimit": 2048000,
      "rowLimit": 10000
     },
     "inputWidgets": {},
     "nuid": "9f61016b-7bcb-4bb8-b2ff-c5d2886a8aeb",
     "showTitle": false,
     "tableResultSettingsMap": {},
     "title": ""
    }
   },
   "source": [
    "\n",
    "## Enmascaramiento de datos PII, filtrado a nivel de fila y columna\n",
    "\n",
    "En las siguientes celdas demostraremos cómo manejar datos sensibles mediante el enmascaramiento de columnas y filas.\n",
    "\n",
    "Primero, vamos a crear una nueva tabla llamada \"mlops_churn_protected\" con algunas columnas adicionales"
   ]
  },
  {
   "cell_type": "code",
   "execution_count": 0,
   "metadata": {
    "application/vnd.databricks.v1+cell": {
     "cellMetadata": {
      "byteLimit": 2048000,
      "rowLimit": 10000
     },
     "inputWidgets": {},
     "nuid": "7f5361dd-6d7c-418e-9ac2-387841042ce7",
     "showTitle": false,
     "tableResultSettingsMap": {},
     "title": ""
    }
   },
   "outputs": [],
   "source": [
    "CREATE OR REPLACE TABLE mlops_churn_protected AS\n",
    "SELECT\n",
    "  *,\n",
    "  \"exemplo@email.com\" AS email,\n",
    "  \"Jorge\"             AS firstname,\n",
    "  \"Vidal\"             AS lastname,\n",
    "  \"Calle 123\"         AS address,\n",
    "  CASE\n",
    "    WHEN ROW_NUMBER() OVER (ORDER BY customer_id) <= (COUNT(*) OVER () / 2) THEN 'Chile' \n",
    "    ELSE 'Brazil'\n",
    "  END                 AS country\n",
    "FROM mlops_churn_bronze_customers;"
   ]
  },
  {
   "cell_type": "code",
   "execution_count": 0,
   "metadata": {
    "application/vnd.databricks.v1+cell": {
     "cellMetadata": {
      "byteLimit": 2048000,
      "rowLimit": 10000
     },
     "inputWidgets": {},
     "nuid": "bd6a21c8-3271-4b7a-8cea-22c4ac7e5efa",
     "showTitle": false,
     "tableResultSettingsMap": {
      "0": {
       "dataGridStateBlob": "{\"version\":1,\"tableState\":{\"columnPinning\":{\"left\":[\"#row_number#\"],\"right\":[]},\"columnSizing\":{},\"columnVisibility\":{}},\"settings\":{\"columns\":{}},\"syncTimestamp\":1760460783210}",
       "filterBlob": null,
       "queryPlanFiltersBlob": null,
       "tableResultIndex": 0
      }
     },
     "title": ""
    }
   },
   "outputs": [],
   "source": [
    "SELECT * FROM mlops_churn_protected;"
   ]
  },
  {
   "cell_type": "code",
   "execution_count": 0,
   "metadata": {
    "application/vnd.databricks.v1+cell": {
     "cellMetadata": {
      "byteLimit": 2048000,
      "rowLimit": 10000
     },
     "inputWidgets": {},
     "nuid": "f401f157-87f8-4497-8404-475454c235d7",
     "showTitle": false,
     "tableResultSettingsMap": {},
     "title": ""
    }
   },
   "outputs": [],
   "source": [
    "SELECT DISTINCT country\n",
    "FROM mlops_churn_protected;"
   ]
  },
  {
   "cell_type": "code",
   "execution_count": 0,
   "metadata": {
    "application/vnd.databricks.v1+cell": {
     "cellMetadata": {
      "byteLimit": 2048000,
      "rowLimit": 10000
     },
     "inputWidgets": {},
     "nuid": "ab7274c3-e2ae-4e8e-8cce-3a8059b52410",
     "showTitle": false,
     "tableResultSettingsMap": {},
     "title": ""
    }
   },
   "outputs": [],
   "source": [
    "-- El grupo de retail_admin va a tener acceso a todos los datos, el resto de usuarios va a ver la información enmascarada \n",
    "CREATE OR REPLACE FUNCTION simple_mask(column_value STRING)\n",
    "   RETURN IF(is_account_group_member('retail_admin'), column_value, \"****\");\n",
    "   \n",
    "-- Enmascara toda la información PII\n",
    "ALTER TABLE mlops_churn_protected ALTER COLUMN email SET MASK simple_mask;\n",
    "ALTER TABLE mlops_churn_protected ALTER COLUMN firstname SET MASK simple_mask;\n",
    "ALTER TABLE mlops_churn_protected ALTER COLUMN lastname SET MASK simple_mask;\n",
    "ALTER TABLE mlops_churn_protected ALTER COLUMN address SET MASK simple_mask;\n",
    "\n",
    "-- Aplica un filtro de filas para la columna país \n",
    "CREATE OR REPLACE FUNCTION country_filter(country STRING) \n",
    "RETURN (\n",
    "  is_account_group_member('retail_admin') or  -- el grupo retail_admin puede ver todas las regiones de la tabla\n",
    "  country like \"Chile\"                 -- los usuarios que no son retail_admins solo pueden ver la región Chile\n",
    ");                 \n",
    "\n",
    "ALTER TABLE mlops_churn_protected SET ROW FILTER country_filter ON (country);\n",
    "\n",
    "SELECT * FROM mlops_churn_protected"
   ]
  },
  {
   "cell_type": "code",
   "execution_count": 0,
   "metadata": {
    "application/vnd.databricks.v1+cell": {
     "cellMetadata": {
      "byteLimit": 2048000,
      "rowLimit": 10000
     },
     "inputWidgets": {},
     "nuid": "caffdead-7eed-4549-8b1c-c2923624369c",
     "showTitle": false,
     "tableResultSettingsMap": {},
     "title": ""
    }
   },
   "outputs": [],
   "source": [
    "SELECT DISTINCT country\n",
    "FROM mlops_churn_protected;"
   ]
  },
  {
   "cell_type": "markdown",
   "metadata": {
    "application/vnd.databricks.v1+cell": {
     "cellMetadata": {
      "byteLimit": 2048000,
      "rowLimit": 10000
     },
     "inputWidgets": {},
     "isMarkdownSandbox": true,
     "nuid": "1499cc82-78b5-4075-9995-b7eee3e7fe1a",
     "showTitle": false,
     "tableResultSettingsMap": {},
     "title": ""
    }
   },
   "source": [
    "\n",
    "## Avanzando con la gobernanza y seguridad de datos\n",
    "\n",
    "Al reunir todos tus activos de datos, Unity Catalog te permite construir una gobernanza completa y sencilla para ayudarte a escalar tus equipos.\n",
    "\n",
    "Unity Catalog puede ser utilizado desde simples GRANT hasta la construcción de una organización datamesh completa.\n",
    "\n",
    "<img src=\"https://github.com/QuentinAmbard/databricks-demo/raw/main/product_demos/uc/lineage/lineage-table.gif\" style=\"float: right; margin-left: 10px\"/>\n",
    "\n",
    "### Linaje\n",
    "\n",
    "UC captura automáticamente las dependencias de las tablas y te permite rastrear cómo se usa tu información, incluso a nivel de fila: `dbdemos.install('uc-03-data-lineage')`\n",
    "\n",
    "Esto te permite analizar el impacto aguas abajo o monitorear información sensible en toda la organización (GDPR).\n",
    "\n",
    "### Registro de auditoría\n",
    "\n",
    "UC captura todos los eventos. ¿Necesitas saber quién accede a qué datos? Consulta tu registro de auditoría: `dbdemos.install('uc-04-audit-log')`\n",
    "\n",
    "Esto te permite analizar el impacto aguas abajo o monitorear información sensible en toda la organización (GDPR).\n",
    "\n",
    "### Actualización a UC\n",
    "\n",
    "¿Ya usas Databricks sin UC? Actualizar tus tablas para beneficiarte de Unity Catalog es simple: `dbdemos.install('uc-05-upgrade')`\n",
    "\n",
    "### Compartir datos con organizaciones externas\n",
    "\n",
    "Compartir tus datos fuera de tus usuarios de Databricks es simple con Delta Sharing, y no requiere que los consumidores de datos usen Databricks: `dbdemos.install('delta-sharing-airlines')`"
   ]
  },
  {
   "cell_type": "markdown",
   "metadata": {
    "application/vnd.databricks.v1+cell": {
     "cellMetadata": {
      "byteLimit": 2048000,
      "rowLimit": 10000
     },
     "inputWidgets": {},
     "nuid": "6959e597-b3f1-425a-a964-cae4b016e286",
     "showTitle": false,
     "tableResultSettingsMap": {},
     "title": ""
    }
   },
   "source": [
    "## Feature Engineering\n",
    "Nuestro primer trabajo es analizar los datos y preparar un conjunto de características.\n",
    "\n",
    "Siguiente: [Analizar los datos y preparar características]($./02_1_feature_engineering)"
   ]
  }
 ],
 "metadata": {
  "application/vnd.databricks.v1+notebook": {
   "computePreferences": {
    "hardware": {
     "accelerator": null,
     "gpuPoolId": null,
     "memory": null
    }
   },
   "dashboards": [],
   "environmentMetadata": {
    "base_environment": "",
    "environment_version": "4"
   },
   "inputWidgetPreferences": null,
   "language": "sql",
   "notebookMetadata": {
    "pythonIndentUnit": 2
   },
   "notebookName": "01_2_unity_catalog_data_governance",
   "widgets": {}
  },
  "language_info": {
   "name": "sql"
  }
 },
 "nbformat": 4,
 "nbformat_minor": 0
}

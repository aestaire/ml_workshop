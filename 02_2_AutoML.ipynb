{
 "cells": [
  {
   "cell_type": "markdown",
   "metadata": {
    "application/vnd.databricks.v1+cell": {
     "cellMetadata": {},
     "inputWidgets": {},
     "nuid": "32f19565-158c-432c-a28d-e8e632eec75d",
     "showTitle": false,
     "tableResultSettingsMap": {},
     "title": ""
    }
   },
   "source": [
    "\n",
    "<div style=\"text-align: center; line-height: 0; padding-top: 9px;\">\n",
    "  <img src=https://raw.githubusercontent.com/aestaire/ml_workshop/refs/heads/main/files/images/hands-on.png>\n",
    "</div>"
   ]
  },
  {
   "cell_type": "markdown",
   "metadata": {
    "application/vnd.databricks.v1+cell": {
     "cellMetadata": {},
     "inputWidgets": {},
     "nuid": "f6e65642-1bdc-4ca6-a3a4-21bcfe8e2a9c",
     "showTitle": false,
     "tableResultSettingsMap": {},
     "title": ""
    }
   },
   "source": [
    "## AutoML para acelerar el desarrollo\n",
    "\n",
    "AutoML en Databricks permite automatizar el proceso de entrenamiento y selección de modelos, como de clasificación, lo que agiliza significativamente el desarrollo de soluciones de machine learning. Con AutoML, puedes explorar rápidamente diferentes algoritmos y configuraciones sin necesidad de ajustar manualmente los hiperparámetros, ahorrando tiempo y recursos.\n",
    "\n",
    "En este notebook aprenderás a:\n",
    "* Iniciar un experimento de clasificación con AutoML en Databricks;\n",
    "* Analizar los resultados y seleccionar el mejor modelo automáticamente;\n",
    "* Registrar el modelo en MLflow para facilitar su gestión y despliegue.\n",
    "\n",
    "Esta automatización te ayuda a enfocarte en la solución del problema y en la interpretación de resultados, acelerando el ciclo de desarrollo y reduciendo errores manuales."
   ]
  },
  {
   "cell_type": "markdown",
   "metadata": {
    "application/vnd.databricks.v1+cell": {
     "cellMetadata": {},
     "inputWidgets": {},
     "nuid": "f662d33d-f763-4415-a8b6-920307ea4522",
     "showTitle": false,
     "tableResultSettingsMap": {},
     "title": ""
    }
   },
   "source": [
    "### Ve a la pestaña Experiments"
   ]
  },
  {
   "cell_type": "markdown",
   "metadata": {
    "application/vnd.databricks.v1+cell": {
     "cellMetadata": {},
     "inputWidgets": {},
     "nuid": "f3c70785-9cce-4688-8732-bc1c2613d180",
     "showTitle": false,
     "tableResultSettingsMap": {},
     "title": ""
    }
   },
   "source": [
    "<img src=\"./files/images/automl.png\" width=\"350\">"
   ]
  },
  {
   "cell_type": "markdown",
   "metadata": {
    "application/vnd.databricks.v1+cell": {
     "cellMetadata": {},
     "inputWidgets": {},
     "nuid": "c67bd31a-e66e-4df0-bc0a-c7c9b32cb159",
     "showTitle": false,
     "tableResultSettingsMap": {},
     "title": ""
    }
   },
   "source": [
    "**Clica en \"Classification\"**"
   ]
  },
  {
   "cell_type": "markdown",
   "metadata": {
    "application/vnd.databricks.v1+cell": {
     "cellMetadata": {},
     "inputWidgets": {},
     "nuid": "e4ec09f9-6aac-455a-87f4-1ff6f9dea313",
     "showTitle": false,
     "tableResultSettingsMap": {},
     "title": ""
    }
   },
   "source": [
    "<img src=\"./files/images/automl2.png\" width=\"1500\">"
   ]
  },
  {
   "cell_type": "markdown",
   "metadata": {
    "application/vnd.databricks.v1+cell": {
     "cellMetadata": {},
     "inputWidgets": {},
     "nuid": "6839003c-aa9d-4f74-a01c-6af0c66f200d",
     "showTitle": false,
     "tableResultSettingsMap": {},
     "title": ""
    }
   },
   "source": [
    "### Rellena los valores como en el ejemplo abajo"
   ]
  },
  {
   "cell_type": "markdown",
   "metadata": {
    "application/vnd.databricks.v1+cell": {
     "cellMetadata": {},
     "inputWidgets": {},
     "nuid": "d5515b1e-b726-4a6a-88e2-c07fb02b7719",
     "showTitle": false,
     "tableResultSettingsMap": {},
     "title": ""
    }
   },
   "source": [
    "<img src=\"./files/images/automl3.png\" width=\"1500\">"
   ]
  },
  {
   "cell_type": "markdown",
   "metadata": {
    "application/vnd.databricks.v1+cell": {
     "cellMetadata": {},
     "inputWidgets": {},
     "nuid": "351482f9-0673-4c50-b867-423d269d8774",
     "showTitle": false,
     "tableResultSettingsMap": {},
     "title": ""
    }
   },
   "source": [
    "**Clica en \"Start AutoML\"**"
   ]
  },
  {
   "cell_type": "markdown",
   "metadata": {
    "application/vnd.databricks.v1+cell": {
     "cellMetadata": {},
     "inputWidgets": {},
     "nuid": "e4afd829-a76d-4bd3-88fb-56f9a9f3539b",
     "showTitle": false,
     "tableResultSettingsMap": {},
     "title": ""
    }
   },
   "source": [
    "<img src=\"./files/images/automl4.png\" width=\"1500\">"
   ]
  },
  {
   "cell_type": "markdown",
   "metadata": {
    "application/vnd.databricks.v1+cell": {
     "cellMetadata": {},
     "inputWidgets": {},
     "nuid": "5eb06160-c137-4c70-9242-573099107713",
     "showTitle": false,
     "tableResultSettingsMap": {},
     "title": ""
    }
   },
   "source": [
    "\n",
    "Cuando finaliza un experimento de AutoML, se generan **múltiples pruebas con diferentes algoritmos y configuraciones**. Puedes analizar el código de cada prueba accediendo a los notebooks generados para cada ejecución. Además, el sistema selecciona automáticamente el modelo campeón, que es el que obtuvo el mejor desempeño según la métrica definida. También se crea un **notebook de exploración de datos**, donde puedes revisar el análisis inicial realizado sobre el dataset antes del entrenamiento. Esto te permite entender mejor los resultados y el proceso de selección del modelo."
   ]
  }
 ],
 "metadata": {
  "application/vnd.databricks.v1+notebook": {
   "computePreferences": null,
   "dashboards": [],
   "environmentMetadata": {
    "base_environment": "",
    "environment_version": "4"
   },
   "inputWidgetPreferences": null,
   "language": "python",
   "notebookMetadata": {
    "pythonIndentUnit": 2
   },
   "notebookName": "02_2_AutoML",
   "widgets": {}
  },
  "language_info": {
   "name": "python"
  }
 },
 "nbformat": 4,
 "nbformat_minor": 0
}

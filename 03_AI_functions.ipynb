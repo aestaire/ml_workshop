{
 "cells": [
  {
   "cell_type": "markdown",
   "metadata": {
    "application/vnd.databricks.v1+cell": {
     "cellMetadata": {
      "byteLimit": 2048000,
      "rowLimit": 10000
     },
     "inputWidgets": {},
     "nuid": "80c7b22b-c255-4379-bc3d-23352278c46d",
     "showTitle": false,
     "tableResultSettingsMap": {},
     "title": ""
    }
   },
   "source": [
    "\n",
    "<div style=\"text-align: center; line-height: 0; padding-top: 9px;\">\n",
    "  <img src=https://raw.githubusercontent.com/aestaire/ml_workshop/refs/heads/main/files/images/hands-on.png>\n",
    "</div>"
   ]
  },
  {
   "cell_type": "markdown",
   "metadata": {
    "application/vnd.databricks.v1+cell": {
     "cellMetadata": {
      "byteLimit": 2048000,
      "rowLimit": 10000
     },
     "inputWidgets": {},
     "nuid": "bee2409b-89f5-4bd9-8f5c-f6748b2413eb",
     "showTitle": false,
     "tableResultSettingsMap": {},
     "title": ""
    }
   },
   "source": [
    "### Utilice un cluster Serverless Environment 2 para ejecutar este notebook\n",
    "Para ejecutar esta demostración, simplemente selecciona el cluster `Serverless` en el menú desplegable.\n",
    "Comprueba que la versión del cluster serverless es la número 2 <br />\n"
   ]
  },
  {
   "cell_type": "markdown",
   "metadata": {
    "application/vnd.databricks.v1+cell": {
     "cellMetadata": {
      "byteLimit": 2048000,
      "rowLimit": 10000
     },
     "inputWidgets": {},
     "nuid": "b3a1e1fd-0854-42bb-9b7c-4e8f29b4f0b8",
     "showTitle": false,
     "tableResultSettingsMap": {},
     "title": ""
    }
   },
   "source": [
    "\n",
    "![](./files/images/version2-serverless.png)"
   ]
  },
  {
   "cell_type": "markdown",
   "metadata": {
    "application/vnd.databricks.v1+cell": {
     "cellMetadata": {
      "byteLimit": 2048000,
      "rowLimit": 10000
     },
     "inputWidgets": {},
     "nuid": "1b77b7ff-c22a-4c05-9e93-7ef5847bf2ba",
     "showTitle": false,
     "tableResultSettingsMap": {},
     "title": ""
    }
   },
   "source": [
    "<img src=\"https://raw.githubusercontent.com/Databricks-BR/genai_hackathon/main/images/head_genai_sql.png\" width=\"1200px\">"
   ]
  },
  {
   "cell_type": "markdown",
   "metadata": {
    "application/vnd.databricks.v1+cell": {
     "cellMetadata": {
      "byteLimit": 2048000,
      "rowLimit": 10000
     },
     "inputWidgets": {},
     "nuid": "8533980d-f6ca-452d-b166-bc0cee6c1b6e",
     "showTitle": false,
     "tableResultSettingsMap": {},
     "title": ""
    }
   },
   "source": [
    "Una forma de aplicar los modelos de IA Generativa es utilizar las **[Funciones SQL de IA de Databricks](https://docs.databricks.com/en/large-language-models/ai-functions.html)**.\n",
    "\n",
    "Estas permiten el uso de SQL, un lenguaje ampliamente utilizado por analistas de datos y de negocios, para ejecutar un LLM sobre nuestras bases de datos corporativas. Con esto, también podemos crear nuevas tablas con la información extraída para ser utilizada en nuestros análisis más fácilmente.\n",
    "\n",
    "Existen funciones nativas para ejecutar tareas predefinidas o enviar cualquier instrucción deseada para ser ejecutada. A continuación se muestran las descripciones:"
   ]
  },
  {
   "cell_type": "markdown",
   "metadata": {
    "application/vnd.databricks.v1+cell": {
     "cellMetadata": {
      "byteLimit": 2048000,
      "rowLimit": 10000
     },
     "inputWidgets": {},
     "nuid": "16df731a-55c3-4f3d-8456-c93e2a5b414e",
     "showTitle": false,
     "tableResultSettingsMap": {},
     "title": ""
    }
   },
   "source": [
    "\n",
    " Gen AI SQL Function | Descripción |\n",
    " -- | -- |\n",
    " [ai_analyze_sentiment](https://docs.databricks.com/pt/sql/language-manual/functions/ai_analyze_sentiment.html) | Análisis de Sentimiento |\n",
    " [ai_classify](https://docs.databricks.com/pt/sql/language-manual/functions/ai_classify.html) | Clasificación de Texto |\n",
    " [ai_extract](https://docs.databricks.com/pt/sql/language-manual/functions/ai_extract.html) | Extracción de Términos |\n",
    " [ai_fix_grammar](https://docs.databricks.com/pt/sql/language-manual/functions/ai_fix_grammar.html) | Corrección Gramatical |\n",
    " [ai_gen](https://docs.databricks.com/pt/sql/language-manual/functions/ai_gen.html) | Generación de Textos | \n",
    " [ai_mask](https://docs.databricks.com/pt/sql/language-manual/functions/ai_mask.html) | Enmascaramiento de datos sensibles |\n",
    " [ai_query](https://docs.databricks.com/pt/sql/language-manual/functions/ai_query.html) | Consultas Gen AI |\n",
    " [ai_similarity](https://docs.databricks.com/pt/sql/language-manual/functions/ai_similarity.html) | Análisis de Similitud |\n",
    " [ai_summarize](https://docs.databricks.com/pt/sql/language-manual/functions/ai_summarize.html) | Resumen de Textos |\n",
    " [ai_translate](https://docs.databricks.com/pt/sql/language-manual/functions/ai_translate.html) | Traducción de Textos |"
   ]
  },
  {
   "cell_type": "markdown",
   "metadata": {
    "application/vnd.databricks.v1+cell": {
     "cellMetadata": {
      "byteLimit": 2048000,
      "rowLimit": 10000
     },
     "inputWidgets": {},
     "nuid": "4a69749e-4627-42eb-8f43-c7a0b14ec4b9",
     "showTitle": false,
     "tableResultSettingsMap": {},
     "title": ""
    }
   },
   "source": [
    "## Ejemplos de implementación"
   ]
  },
  {
   "cell_type": "code",
   "execution_count": 0,
   "metadata": {
    "application/vnd.databricks.v1+cell": {
     "cellMetadata": {
      "byteLimit": 2048000,
      "rowLimit": 10000
     },
     "inputWidgets": {},
     "nuid": "ef5a4aea-080e-4a04-8be3-a2ef38517e99",
     "showTitle": true,
     "tableResultSettingsMap": {},
     "title": "Crear Informe Médico"
    }
   },
   "outputs": [],
   "source": [
    "SELECT ai_query(\n",
    "    'databricks-meta-llama-3-3-70b-instruct',\n",
    "    'Cree un informe médico de un paciente llamado JUAN SILVA (30 años) con síntomas de COVID que está en tratamiento hace 10 días, incluyendo todos los medicamentos utilizados para minimizar los efectos inflamatorios de una crisis pulmonar.'\n",
    "  ) AS summary"
   ]
  },
  {
   "cell_type": "code",
   "execution_count": 0,
   "metadata": {
    "application/vnd.databricks.v1+cell": {
     "cellMetadata": {
      "byteLimit": 2048000,
      "rowLimit": 10000
     },
     "inputWidgets": {},
     "nuid": "42ff6bdc-b1e1-4f79-9d1a-1c5ccc567515",
     "showTitle": true,
     "tableResultSettingsMap": {},
     "title": "Crear lista fake de clientes"
    }
   },
   "outputs": [],
   "source": [
    "SELECT ai_query(\n",
    "    'databricks-meta-llama-3-3-70b-instruct',\n",
    "    'Genere un conjunto de datos de muestra de 10 clientes que contenga las siguientes columnas: \n",
    "      \"customer_id\" (entero largo de 1 a 10), \"firstname\", \"lastname\" y order_count (número positivo aleatorio, menor que 200).\n",
    "\n",
    "      Dame solo JSON. Ningún texto fuera del JSON. Sin explicaciones ni notas.\n",
    "      [{\"customer_id\":<long>, \"firstname\":<string>, \"lastname\":<string>, \"order_count\":<int>}] \n",
    "      \"array<struct<customer_id:long, firstname:string, lastname:string, order_count:int>>\" '\n",
    "      ) AS sample_data"
   ]
  },
  {
   "cell_type": "code",
   "execution_count": 0,
   "metadata": {
    "application/vnd.databricks.v1+cell": {
     "cellMetadata": {
      "byteLimit": 2048000,
      "rowLimit": 10000
     },
     "inputWidgets": {},
     "nuid": "e9fc11c9-e1e1-4717-911f-bc808ae65e75",
     "showTitle": true,
     "tableResultSettingsMap": {
      "0": {
       "dataGridStateBlob": "{\"version\":1,\"tableState\":{\"columnPinning\":{\"left\":[\"#row_number#\"],\"right\":[]},\"columnSizing\":{},\"columnVisibility\":{}},\"settings\":{\"columns\":{}},\"syncTimestamp\":1759701161819}",
       "filterBlob": null,
       "queryPlanFiltersBlob": null,
       "tableResultIndex": 0
      }
     },
     "title": "Traducción"
    }
   },
   "outputs": [],
   "source": [
    "SELECT ai_translate('Hello, how are you?', 'es') as traduccion;"
   ]
  },
  {
   "cell_type": "code",
   "execution_count": 0,
   "metadata": {
    "application/vnd.databricks.v1+cell": {
     "cellMetadata": {
      "byteLimit": 2048000,
      "rowLimit": 10000
     },
     "inputWidgets": {},
     "nuid": "c6c0ca2f-2d16-4f34-b4bd-b05ec927a280",
     "showTitle": true,
     "tableResultSettingsMap": {},
     "title": "Resumen de un texto juridico"
    }
   },
   "outputs": [],
   "source": [
    "SELECT ai_summarize(\n",
    "\"\"\"\n",
    "Haz el resumen en español:\n",
    "\n",
    "DE LA PUBLICIDAD: Todas las declaraciones, anuncios públicos y divulgaciones deberán ser previamente comunicadas por la parte receptora, siguiendo los principios de buena fe y transparencia contractual. Asimismo, es necesaria la aprobación de la otra parte sobre la revelación de contenidos, requiriendo el consentimiento previo y expreso.\n",
    "\n",
    "DE LA INFORMACIÓN CONSIDERADA CONFIDENCIAL: La información confidencial es aquella que la parte reveladora no desea que sea divulgada a terceros fuera del acuerdo. Por lo tanto, debe redactarse una lista con los datos que serán considerados confidenciales, como: metodologías y herramientas de desarrollo de productos y servicios, valores e información financiera, documentos de marketing y estrategia.\n",
    "\n",
    "DE LAS PENALIDADES Y DEL INCUMPLIMIENTO DE LA CONFIDENCIALIDAD: Las partes deberán acordar las penalidades en caso de incumplimiento de las cláusulas contractuales, tales como: pago de multa, indemnización material y/o moral, y/o reembolso de todas las pérdidas, daños causados, lucro cesante, daños directos e indirectos, derechos de autor, entre otros perjuicios patrimoniales o morales que surjan como consecuencia del incumplimiento, además de la responsabilidad civil y penal de forma judicial.\n",
    "\"\"\",\n",
    "    10\n",
    "  ) as resumen"
   ]
  },
  {
   "cell_type": "code",
   "execution_count": 0,
   "metadata": {
    "application/vnd.databricks.v1+cell": {
     "cellMetadata": {
      "byteLimit": 2048000,
      "rowLimit": 10000
     },
     "inputWidgets": {},
     "nuid": "d86a0b76-4262-42e0-aeef-fee376e3dec0",
     "showTitle": true,
     "tableResultSettingsMap": {},
     "title": "Classificar texto juridico"
    }
   },
   "outputs": [],
   "source": [
    "SELECT ai_classify(\n",
    "  \"\"\"\n",
    "      En caso de incumplimiento del contrato por parte del proveedor de servicios, el cliente tendrá derecho a aplicar una multa contractual, cuyo valor será equivalente al 20% del valor total del contrato, sin perjuicio de otras reclamaciones o acciones legales que el cliente pueda tener. Esta multa será inmediatamente exigible y pagadera por el proveedor de servicios en la fecha de ocurrencia del incumplimiento del contrato.\n",
    "  \"\"\"\n",
    ", ARRAY(  \"cláusula de rescisión\", \"cláusula de garantía\", \"cláusula de multa\"))\n",
    "as avalia_contrato;"
   ]
  },
  {
   "cell_type": "code",
   "execution_count": 0,
   "metadata": {
    "application/vnd.databricks.v1+cell": {
     "cellMetadata": {
      "byteLimit": 2048000,
      "rowLimit": 10000
     },
     "inputWidgets": {},
     "nuid": "c4902d6c-7cc6-4244-8d2f-c103d37d2e9d",
     "showTitle": true,
     "tableResultSettingsMap": {},
     "title": "Similitud de textos"
    }
   },
   "outputs": [],
   "source": [
    "-- Realiza una comparación de SIMILITUD ENTRE DOS TEXTOS\n",
    "\n",
    "-- Por ejemplo, para ver si alguna cláusula contractual fue modificada (en un contexto jurídico)\n",
    "\n",
    "SELECT ai_similarity(\n",
    "  \"\"\"\n",
    "        En caso de violación de contrato por parte del proveedor de servicios, el cliente tendrá derecho a aplicar una multa contractual, cuyo valor será equivalente al 10% del valor total del contrato, sin perjuicio de otras reclamaciones o acciones legales que el cliente pueda tener. Esta multa será inmediatamente exigible y pagadera por el proveedor de servicios en la fecha de ocurrencia de la violación del contrato.\n",
    "\n",
    "  \"\"\",\n",
    "  \"\"\"\n",
    "        En caso de violación de contrato por parte del proveedor de servicios, el cliente tendrá derecho a aplicar una multa contractual, cuyo valor será equivalente al 20% del valor total del contrato, sin perjuicio de otras reclamaciones o acciones legales que el cliente pueda tener. Esta multa será inmediatamente exigible y pagadera por el proveedor de servicios en la fecha de ocurrencia de la violación del contrato.\n",
    "\n",
    "  \"\"\") as similitud"
   ]
  },
  {
   "cell_type": "code",
   "execution_count": 0,
   "metadata": {
    "application/vnd.databricks.v1+cell": {
     "cellMetadata": {
      "byteLimit": 2048000,
      "rowLimit": 10000
     },
     "inputWidgets": {},
     "nuid": "7e6eb1f3-aefa-4537-8d4f-dc2d63f5f7e7",
     "showTitle": true,
     "tableResultSettingsMap": {},
     "title": "Extracción de términos"
    }
   },
   "outputs": [],
   "source": [
    "SELECT ai_extract(\n",
    "    \"\"\"\n",
    "        El cliente Juan Pérez, con número de cuenta 123456789, realizó una transferencia bancaria el 15/09/2025 por un monto de 2,500 euros al beneficiario María López. La operación fue registrada bajo el código de transacción TRX987654.\n",
    "    \"\"\",\n",
    "    array('nombre', 'fecha', 'numero_de_cuenta', 'beneficiario', 'monto', 'codigo_de_transaccion')\n",
    "  ) as extraccion_de_terminos;"
   ]
  },
  {
   "cell_type": "code",
   "execution_count": 0,
   "metadata": {
    "application/vnd.databricks.v1+cell": {
     "cellMetadata": {
      "byteLimit": 2048000,
      "rowLimit": 10000
     },
     "inputWidgets": {},
     "nuid": "8b96c53b-bdfd-4b91-ad03-65edb87a67e3",
     "showTitle": true,
     "tableResultSettingsMap": {},
     "title": "Extracción de términos"
    }
   },
   "outputs": [],
   "source": [
    "SELECT extraccion.nombre,\n",
    "       extraccion.fecha,      \n",
    "       extraccion.numero_de_cuenta,\n",
    "       extraccion.beneficiario,\n",
    "       extraccion.monto,\n",
    "       extraccion.codigo_de_transaccion\n",
    "FROM (\n",
    "  SELECT ai_extract(\n",
    "    \"\"\"\n",
    "                El cliente Juan Pérez, con número de cuenta 123456789, realizó una transferencia bancaria el 15/09/2025 por un monto de 2,500 euros al beneficiario María López. La operación fue registrada bajo el código de transacción TRX987654.\n",
    "    \"\"\",\n",
    "    array('nombre', 'fecha', 'numero_de_cuenta', 'beneficiario', 'monto', 'codigo_de_transaccion')\n",
    "  ) as extraccion\n",
    ")"
   ]
  },
  {
   "cell_type": "markdown",
   "metadata": {
    "application/vnd.databricks.v1+cell": {
     "cellMetadata": {
      "byteLimit": 2048000,
      "rowLimit": 10000
     },
     "inputWidgets": {},
     "nuid": "18ae8d8b-dfdd-41aa-88c3-ebb97729a5e0",
     "showTitle": false,
     "tableResultSettingsMap": {},
     "title": ""
    }
   },
   "source": [
    "En el siguiente ejemplo, _crea_ un esquema con tu nombre para no tener problema de sobreescritura de datos:"
   ]
  },
  {
   "cell_type": "code",
   "execution_count": 0,
   "metadata": {
    "application/vnd.databricks.v1+cell": {
     "cellMetadata": {
      "byteLimit": 2048000,
      "rowLimit": 10000
     },
     "inputWidgets": {},
     "nuid": "579cbbb5-1771-4edb-b94f-0d3096a489da",
     "showTitle": false,
     "tableResultSettingsMap": {},
     "title": ""
    }
   },
   "outputs": [],
   "source": [
    "\n",
    "CREATE SCHEMA IF NOT EXISTS `workshop_databricks`.`demo_ai_functions_nombre`; -- sustituye nombre por el tuyo\n",
    "\n",
    "CREATE VOLUME IF NOT EXISTS `workshop_databricks`.`demo_ai_functions_nombre`.`archivos`; -- sustituye nombre por el tuyo"
   ]
  },
  {
   "cell_type": "code",
   "execution_count": 0,
   "metadata": {
    "application/vnd.databricks.v1+cell": {
     "cellMetadata": {
      "byteLimit": 2048000,
      "rowLimit": 10000
     },
     "inputWidgets": {},
     "nuid": "a73fa7f8-ac48-4679-a9b4-7aae2daad78c",
     "showTitle": false,
     "tableResultSettingsMap": {},
     "title": ""
    }
   },
   "outputs": [],
   "source": [
    "%python\n",
    "\n",
    "catalog = \"workshop_databricks\"\n",
    "schema = \"demo_ai_functions_nombre\" #sustituye el nombre por el tuyo\n",
    "volume = \"archivos\"\n",
    "\n",
    "download_url = \"https://raw.githubusercontent.com/aestaire/ml_workshop/refs/heads/main/files/data/reviews.csv\"\n",
    "file_name = \"reviews.csv\"\n",
    "table_name = \"reviews\"\n",
    "path_volume = \"/Volumes/\" + catalog + \"/\" + schema + \"/\" + volume\n",
    "path_table = catalog + \".\" + schema\n",
    "print(path_table) # Show the complete path\n",
    "print(path_volume) # Show the complete path\n",
    "\n",
    "dbutils.fs.cp(f\"{download_url}\", f\"{path_volume}\" + \"/\" + f\"{file_name}\")\n",
    "\n",
    "df = spark.read.csv(f\"{path_volume}/{file_name}\",\n",
    "  header=True,\n",
    "  inferSchema=True,\n",
    "  sep=\",\",\n",
    "  encoding=\"UTF-8\")\n",
    "\n",
    "df.write.mode(\"overwrite\").saveAsTable(f\"{path_table}.{table_name}\")\n",
    "\n",
    "display(df)"
   ]
  },
  {
   "cell_type": "code",
   "execution_count": 0,
   "metadata": {
    "application/vnd.databricks.v1+cell": {
     "cellMetadata": {
      "byteLimit": 2048000,
      "rowLimit": 10000
     },
     "inputWidgets": {},
     "nuid": "e55b8bb1-f79d-491b-886d-6f6e979f5cf5",
     "showTitle": false,
     "tableResultSettingsMap": {},
     "title": ""
    }
   },
   "outputs": [],
   "source": [
    "CREATE OR REPLACE TABLE workshop_databricks.demo_ai_functions.reviews_structured AS\n",
    "SELECT\n",
    "  ai_query(\n",
    "    \"databricks-meta-llama-3-3-70b-instruct\",\n",
    "    CONCAT(\n",
    "      'Extract the following information from the review: ',\n",
    "      'Location (city name, street name, whatever may be mentioned in the review), ',\n",
    "      'Service Score (1–5), ',\n",
    "      'Product Score (1–5), ',\n",
    "      'Product Name (if mentioned) (comma separated if multiple), ',\n",
    "      'Atmosphere Score [cleanliness, accessibility, location, etc] (1–5), ',\n",
    "      'Sentiment (positive, negative, neutral) [Analyze the sentiment of the review and classify it as positive, negative, or neutral]. ',\n",
    "      'If the review doesn’t contain an element, leave it blank or set it to zero. For instance, if the review does not mention service, then set service_score = 0. Urgency should always have a value. All scores should be 1–5 (if they are not null), with 1 being the worst and 5 being the best.',\n",
    "      ' Review: ', review_es\n",
    "    ),\n",
    "    responseFormat => '{\n",
    "                        \"type\": \"json_schema\",\n",
    "                        \"json_schema\": {\n",
    "                          \"name\": \"review_extraction\",\n",
    "                          \"schema\": {\n",
    "                            \"type\": \"object\",\n",
    "                            \"properties\": {\n",
    "                              \"location\": { \"type\": \"string\" },\n",
    "                              \"service_score\": { \"type\": \"integer\" },\n",
    "                              \"product_score\": { \"type\": \"integer\" },\n",
    "                              \"product_name\": { \"type\": \"string\" },\n",
    "                              \"atmosphere_score\": { \"type\": \"integer\" },\n",
    "                              \"sentiment\": { \"type\": \"string\" }\n",
    "                            }\n",
    "                          }\n",
    "                        }\n",
    "                      }'\n",
    "   ) AS structured_review, *\n",
    "   FROM workshop_databricks.demo_ai_functions.reviews;                   \n"
   ]
  },
  {
   "cell_type": "code",
   "execution_count": 0,
   "metadata": {
    "application/vnd.databricks.v1+cell": {
     "cellMetadata": {
      "byteLimit": 2048000,
      "rowLimit": 10000
     },
     "inputWidgets": {},
     "nuid": "82eac314-694b-48d3-aa61-3df1e644506f",
     "showTitle": false,
     "tableResultSettingsMap": {},
     "title": ""
    }
   },
   "outputs": [],
   "source": [
    "SELECT * FROM workshop_databricks.demo_ai_functions.reviews_structured;"
   ]
  },
  {
   "cell_type": "code",
   "execution_count": 0,
   "metadata": {
    "application/vnd.databricks.v1+cell": {
     "cellMetadata": {
      "byteLimit": 2048000,
      "rowLimit": 10000
     },
     "inputWidgets": {},
     "nuid": "5c674aaa-e3b9-4229-a6e3-c97568ba069a",
     "showTitle": false,
     "tableResultSettingsMap": {
      "0": {
       "dataGridStateBlob": "{\"version\":1,\"tableState\":{\"columnPinning\":{\"left\":[\"#row_number#\"],\"right\":[]},\"columnSizing\":{},\"columnVisibility\":{}},\"settings\":{\"columns\":{}},\"syncTimestamp\":1761230606259}",
       "filterBlob": null,
       "queryPlanFiltersBlob": null,
       "tableResultIndex": 0
      }
     },
     "title": ""
    }
   },
   "outputs": [],
   "source": [
    " -- Now that we've got results, lets unpack the JSON so we can view as a table\n",
    "CREATE OR REPLACE TABLE workshop_databricks.demo_ai_functions.reviews_structured_gold AS\n",
    "SELECT\n",
    "  parse_json(structured_review):location::string AS location,\n",
    "  parse_json(structured_review):service_score::int AS service_score,\n",
    "  parse_json(structured_review):product_score::int AS product_score,\n",
    "  parse_json(structured_review):atmosphere_score::int AS atmosphere_score,\n",
    "  parse_json(structured_review):sentiment::string AS sentiment,\n",
    "  parse_json(structured_review):product_name::string AS product_name,\n",
    "  *\n",
    "FROM workshop_databricks.demo_ai_functions.reviews_structured;"
   ]
  },
  {
   "cell_type": "code",
   "execution_count": 0,
   "metadata": {
    "application/vnd.databricks.v1+cell": {
     "cellMetadata": {
      "byteLimit": 2048000,
      "rowLimit": 10000
     },
     "inputWidgets": {},
     "nuid": "ef311242-fc3c-4c4e-8b35-0a05ae3ad3b5",
     "showTitle": false,
     "tableResultSettingsMap": {},
     "title": ""
    }
   },
   "outputs": [],
   "source": [
    "SELECT * FROM workshop_databricks.demo_ai_functions.reviews_structured_gold;"
   ]
  },
  {
   "cell_type": "code",
   "execution_count": 0,
   "metadata": {
    "application/vnd.databricks.v1+cell": {
     "cellMetadata": {
      "byteLimit": 2048000,
      "rowLimit": 10000
     },
     "inputWidgets": {},
     "nuid": "399a0543-de9d-4195-aa43-9393fcf71699",
     "showTitle": false,
     "tableResultSettingsMap": {
      "0": {
       "dataGridStateBlob": "{\"version\":1,\"tableState\":{\"columnPinning\":{\"left\":[\"#row_number#\"],\"right\":[]},\"columnSizing\":{},\"columnVisibility\":{}},\"settings\":{\"columns\":{}},\"syncTimestamp\":1761231225055}",
       "filterBlob": null,
       "queryPlanFiltersBlob": null,
       "tableResultIndex": 0
      }
     },
     "title": ""
    }
   },
   "outputs": [],
   "source": [
    "-- With our AI augmented data ready, we can use it to narrow down just the reviews that we should be taking action on\n",
    "select product_name, location, sentiment, review_es, franchiseID, review_date\n",
    "from workshop_databricks.demo_ai_functions.reviews_structured_gold\n",
    "where sentiment = 'negative';"
   ]
  }
 ],
 "metadata": {
  "application/vnd.databricks.v1+notebook": {
   "computePreferences": {
    "hardware": {
     "accelerator": null,
     "gpuPoolId": null,
     "memory": null
    }
   },
   "dashboards": [],
   "environmentMetadata": {
    "base_environment": "",
    "environment_version": "3"
   },
   "inputWidgetPreferences": null,
   "language": "sql",
   "notebookMetadata": {
    "pythonIndentUnit": 2
   },
   "notebookName": "03_AI_functions",
   "widgets": {}
  },
  "language_info": {
   "name": "sql"
  }
 },
 "nbformat": 4,
 "nbformat_minor": 0
}

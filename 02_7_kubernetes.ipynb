{
 "cells": [
  {
   "cell_type": "markdown",
   "metadata": {
    "application/vnd.databricks.v1+cell": {
     "cellMetadata": {},
     "inputWidgets": {},
     "nuid": "0a7f3ad5-54a1-40ef-b8d9-775aeab58108",
     "showTitle": false,
     "tableResultSettingsMap": {},
     "title": ""
    }
   },
   "source": [
    "\n",
    "<div style=\"text-align: center; line-height: 0; padding-top: 9px;\">\n",
    "  <img src=https://raw.githubusercontent.com/aestaire/ml_workshop/refs/heads/main/files/images/hands-on.png>\n",
    "</div>"
   ]
  },
  {
   "cell_type": "markdown",
   "metadata": {
    "application/vnd.databricks.v1+cell": {
     "cellMetadata": {},
     "inputWidgets": {},
     "nuid": "89237d35-7412-4603-b9b8-9f1ae31c046b",
     "showTitle": false,
     "tableResultSettingsMap": {},
     "title": ""
    }
   },
   "source": [
    "#Despliegue del Modelo en Kubernetes\n",
    "Hemos entrenado un modelo en Databricks, lo hemos registrado en MLflow Model Registry, y ahora queremos sacarlo del entorno Databricks para.\n",
    "\n",
    "En este notebook vamos a recorrer todo ese camino paso a paso, desde la autenticación hasta el despliegue.\n",
    "\n",
    "Aprenderás a:\n",
    "* Conectarte a tu workspace de Databricks desde tu entorno on-prem\n",
    "* Descargar un modelo registrado en MLflow\n",
    "* Ejecutarlo localmente y hacer inferencias\n",
    "* Empaquetarlo en Docker\n",
    "* Desplegarlo en Kubernetes con un manifiesto simple"
   ]
  },
  {
   "cell_type": "markdown",
   "metadata": {
    "application/vnd.databricks.v1+cell": {
     "cellMetadata": {},
     "inputWidgets": {},
     "nuid": "4c880d4a-e91e-42b6-b892-8fc61cc8dead",
     "showTitle": false,
     "tableResultSettingsMap": {},
     "title": ""
    }
   },
   "source": [
    "## 1. Prerrequisitos\n",
    "\n",
    "Antes de empezar asegúrate de tener instalado lo siguiente:\n",
    "\n",
    "* Python 3.8+ y las librerías necesarias: (pip install --upgrade mlflow databricks-cli)\n",
    "\n",
    "También necesitas:\n",
    "* Docker Desktop (para construir y correr contenedores).\n",
    "* Acceso a tu workspace de Databricks.\n",
    "* Un Personal Access Token (PAT) o autenticación SSO configurada.\n",
    "\n",
    "📚 Referencias oficiales:\n",
    "* [Databricks CLI (Unified Auth)](https://learn.microsoft.com/en-us/azure/databricks/dev-tools/cli/)\n",
    "* [MLflow Models overview](https://mlflow.org/docs/latest/ml/model/)"
   ]
  },
  {
   "cell_type": "markdown",
   "metadata": {
    "application/vnd.databricks.v1+cell": {
     "cellMetadata": {},
     "inputWidgets": {},
     "nuid": "aa6901e4-0618-4f85-b28e-39befef5c181",
     "showTitle": false,
     "tableResultSettingsMap": {},
     "title": ""
    }
   },
   "source": [
    "## 2. Autenticación con Databricks CLI\n",
    "\n",
    "Vale, lo primero es poder hablar con nuestro workspace desde fuera.\n",
    "El Databricks CLI es la forma más sencilla de autenticarnos desde terminal o scripts locales.\n",
    "\n",
    "🔸 Paso 1 — Login\n",
    "`databricks auth login \\\n",
    "  --host https://<tu-workspace>.azuredatabricks.net`\n",
    "\n",
    "\n",
    "Esto te pedirá abrir un enlace o pegar tu token.\n",
    "\n",
    "🔸 Paso 2 — Comprobar conexión\n",
    "`databricks workspace ls /`\n",
    "\n",
    "\n",
    "Si ves la lista de carpetas de tu workspace, ¡ya estás dentro! 🎉\n",
    "\n",
    "📘 Docs: [CLI Authentication](https://learn.microsoft.com/en-us/azure/databricks/dev-tools/cli/authentication)"
   ]
  },
  {
   "cell_type": "markdown",
   "metadata": {
    "application/vnd.databricks.v1+cell": {
     "cellMetadata": {},
     "inputWidgets": {},
     "nuid": "a0234cc3-1292-4846-bee2-70d57130b1de",
     "showTitle": false,
     "tableResultSettingsMap": {},
     "title": ""
    }
   },
   "source": [
    "## 3. Configurar entorno Python on-prem\n",
    "\n",
    "Ahora que tenemos acceso al workspace, vamos a preparar MLflow para apuntar al tracking server de Databricks.\n",
    "\n",
    "En una celda:\n",
    "```\n",
    "import mlflow\n",
    "# Apunta al tracking server de Databricks\n",
    "mlflow.set_tracking_uri(\"databricks\")\n",
    "\n",
    "# (Opcional) Si usas token, puedes definirlo como variable de entorno\n",
    "# %env DATABRICKS_HOST=https://<tu-workspace>.azuredatabricks.net\n",
    "# %env DATABRICKS_TOKEN=<tu_token>\n",
    "```\n",
    "\n",
    "📘 Docs: [MLflow Tracking URIs](https://mlflow.org/docs/latest/ml/tracking/#where-runs-are-recorded)"
   ]
  },
  {
   "cell_type": "markdown",
   "metadata": {
    "application/vnd.databricks.v1+cell": {
     "cellMetadata": {},
     "inputWidgets": {},
     "nuid": "51f05aa2-1a81-4272-bd2a-79b436c32a1d",
     "showTitle": false,
     "tableResultSettingsMap": {},
     "title": ""
    }
   },
   "source": [
    "## 4. Entendiendo cómo se referencia un modelo\n",
    "\n",
    "En MLflow podemos apuntar a un modelo de varias formas:\t\n",
    "\n",
    "| Tipo | Ejemplo | Uso |\n",
    "| -- | -- | -- |\n",
    "| Por versión      | models:/catalogo.esquema.modelo/version  | Para reproducibilidad exacta |\n",
    "| Por alias | models:/catalogo.esquema.modelo@alias              | Ideal para despliegues |\n",
    "\n",
    "📘 Docs: [MLflow Model Registry URIs](https://mlflow.org/docs/latest/ml/model-registry/)"
   ]
  },
  {
   "cell_type": "markdown",
   "metadata": {
    "application/vnd.databricks.v1+cell": {
     "cellMetadata": {},
     "inputWidgets": {},
     "nuid": "95e0d8aa-7c4d-4624-b4a8-bfce8affae66",
     "showTitle": false,
     "tableResultSettingsMap": {},
     "title": ""
    }
   },
   "source": [
    "## 5. Descargar el modelo desde MLflow\n",
    "\n",
    "Vale, ahora sí, vamos a descargar el modelo localmente.\n",
    "```\n",
    "import mlflow\n",
    "\n",
    "mlflow.set_registry_uri(\"databricks-uc\")  \n",
    "\n",
    "# Descarga los artefactos\n",
    "model_uri = \"models:/<CATALOGO>.<ESQUEMA>.<MODELO>/1\"  # o \"@Champion\"\n",
    "local_dir = \"/tmp/mi_modelo\"\n",
    "\n",
    "mlflow.artifacts.download_artifacts(artifact_uri=model_uri, dst_path=local_dir))\n",
    "```\n",
    "Esto te deja una carpeta con todo: el modelo, el MLmodel, dependencias y metadata.\n",
    "\n",
    "📘 Docs: [download_artifacts](https://mlflow.org/docs/latest/api_reference/python_api/mlflow.artifacts.html)"
   ]
  },
  {
   "cell_type": "markdown",
   "metadata": {
    "application/vnd.databricks.v1+cell": {
     "cellMetadata": {},
     "inputWidgets": {},
     "nuid": "30f0c5f6-bd61-44f8-9b88-8ba30b75393e",
     "showTitle": false,
     "tableResultSettingsMap": {},
     "title": ""
    }
   },
   "source": [
    "## 6. Cargar el modelo y hacer inferencia local\n",
    "\n",
    "Una vez descargado, podemos cargarlo directamente en memoria y probarlo.\n",
    "\n",
    "```\n",
    "import mlflow\n",
    "import pandas as pd\n",
    "\n",
    "# Carga desde ruta local y predice\n",
    "import pandas as pd\n",
    "model = mlflow.pyfunc.load_model(local_dir)\n",
    "X = pd.DataFrame([{\"feature1\": 0.3, \"feature2\": 1.2}])\n",
    "print(model.predict(X))\n",
    "\n",
    "# Ejemplo de predicción\n",
    "X = pd.DataFrame([\n",
    "    {\"feature1\": 0.3, \"feature2\": 1.2},\n",
    "    {\"feature1\": 0.8, \"feature2\": 3.1},\n",
    "])\n",
    "\n",
    "preds = model.predict(X)\n",
    "```\n",
    "\n",
    "📘 Docs: [mlflow.pyfunc.load_model](https://mlflow.org/docs/latest/api_reference/python_api/mlflow.pyfunc.html)"
   ]
  },
  {
   "cell_type": "markdown",
   "metadata": {
    "application/vnd.databricks.v1+cell": {
     "cellMetadata": {},
     "inputWidgets": {},
     "nuid": "4cb6dead-0ef6-48b9-9d29-7823c339bb2e",
     "showTitle": false,
     "tableResultSettingsMap": {},
     "title": ""
    }
   },
   "source": [
    "## 7. Empaquetar el modelo como contenedor Docker\n",
    "\n",
    "Como ya tienes el modelo descargado a disco, puedes construir el contenedor directamente desde esa carpeta, para convertirlo en una API lista para servir inferencias.\n",
    "\n",
    "```\n",
    "mlflow models build-docker \\\n",
    "  -m \"local_dir\" \\ #apunta al path local donde está el modelo\n",
    "  -n \"<tu_repo>/<tu_imagen>:v1\" \\ #nombre y etiqueta de la imagen Docker que se generará\n",
    "  --enable-mlserver\n",
    "```\n",
    "Esto construye una imagen con:\n",
    "\n",
    "* Python runtime\n",
    "\n",
    "* El modelo\n",
    "\n",
    "* MLServer (servidor de inferencia REST)\n",
    "\n",
    "Puedes verla en tu lista de imágenes locales:\n",
    "\n",
    "* docker images | grep <tu_imagen>\n",
    "\n",
    "\n",
    "📘 Docs: [Deploy MLflow Models to Docker](https://mlflow.org/docs/latest/ml/model/#build-a-docker-image)\n",
    "\n"
   ]
  },
  {
   "cell_type": "markdown",
   "metadata": {
    "application/vnd.databricks.v1+cell": {
     "cellMetadata": {},
     "inputWidgets": {},
     "nuid": "97e21aea-6947-44b5-8787-30f6dfa192a4",
     "showTitle": false,
     "tableResultSettingsMap": {},
     "title": ""
    }
   },
   "source": [
    "## 8. Probar el contenedor localmente\n",
    "1) Ejecuta el contenedor\n",
    "\n",
    "`docker run --rm -p 8080:8080 \"<tu_repo>/<tu_imagen>:v1\"`\n",
    "\n",
    "2) En otra terminal, envía una predicción:\n",
    "\n",
    "```\n",
    "curl -X POST http://localhost:8080/invocations \\\n",
    "  -H \"Content-Type: application/json\" \\\n",
    "  -d '{\"inputs\": [{\"feature1\": 0.3, \"feature2\": 1.2}]}'\n",
    "```\n",
    "Si obtienes un JSON con predicciones, ya tienes tu modelo sirviendo en tu máquina local 🚀\n",
    "\n",
    "Docs: [Serving models locally](https://mlflow.org/docs/latest/ml/model/#local-deployment)\n",
    "\n"
   ]
  },
  {
   "cell_type": "markdown",
   "metadata": {
    "application/vnd.databricks.v1+cell": {
     "cellMetadata": {},
     "inputWidgets": {},
     "nuid": "00645b67-10e6-4ed0-b0ad-93ccbcb6c0f8",
     "showTitle": false,
     "tableResultSettingsMap": {},
     "title": ""
    }
   },
   "source": [
    "## 9. Desplegar el modelo en Kubernetes\n",
    "\n",
    "Ahora vamos a llevar ese mismo contenedor a Kubernetes con un manifiesto básico.\n",
    "\n",
    "Crea un archivo k8s-mlflow-model.yaml con este contenido:\n",
    "```\n",
    "apiVersion: apps/v1\n",
    "kind: Deployment\n",
    "metadata:\n",
    "  name: mlflow-model\n",
    "spec:\n",
    "  replicas: 2\n",
    "  selector:\n",
    "    matchLabels:\n",
    "      app: mlflow-model\n",
    "  template:\n",
    "    metadata:\n",
    "      labels:\n",
    "        app: mlflow-model\n",
    "    spec:\n",
    "      containers:\n",
    "      - name: mlflow-model\n",
    "        image: <tu_repo>/<tu_imagen>:v1\n",
    "        ports:\n",
    "        - containerPort: 8080\n",
    "---\n",
    "apiVersion: v1\n",
    "kind: Service\n",
    "metadata:\n",
    "  name: mlflow-model-svc\n",
    "spec:\n",
    "  selector:\n",
    "    app: mlflow-model\n",
    "  ports:\n",
    "  - port: 80\n",
    "    targetPort: 8080\n",
    "```\n",
    "\n",
    "Despliega con:\n",
    "```\n",
    "kubectl apply -f k8s-mlflow-model.yaml\n",
    "kubectl get pods\n",
    "```\n",
    "\n",
    "Y para probarlo:\n",
    "```\n",
    "kubectl port-forward svc/mlflow-model-svc 8080:80\n",
    "curl -X POST http://localhost:8080/invocations \\\n",
    "  -H \"Content-Type: application/json\" \\\n",
    "  -d '{\"inputs\": [{\"feature1\": 0.3, \"feature2\": 1.2}]}'\n",
    "```\n",
    "\n",
    "📘 Docs: [Deploy MLflow Model to Kubernetes](https://mlflow.org/docs/latest/ml/model/#deployment)"
   ]
  },
  {
   "cell_type": "markdown",
   "metadata": {
    "application/vnd.databricks.v1+cell": {
     "cellMetadata": {},
     "inputWidgets": {},
     "nuid": "bc457704-5225-451c-8f36-f2b089311e1d",
     "showTitle": false,
     "tableResultSettingsMap": {},
     "title": ""
    }
   },
   "source": [
    "### ¡Felicidades! Ya tendríamos funcionando nuestro modelo en local\n",
    "\n",
    "Ahora vamos a continuar aprendiendo sobre las [AI functions]($./03_AI_functions)\n"
   ]
  }
 ],
 "metadata": {
  "application/vnd.databricks.v1+notebook": {
   "computePreferences": null,
   "dashboards": [],
   "environmentMetadata": {
    "base_environment": "",
    "environment_version": "4"
   },
   "inputWidgetPreferences": null,
   "language": "python",
   "notebookMetadata": {
    "pythonIndentUnit": 2
   },
   "notebookName": "02_7_kubernetes",
   "widgets": {}
  },
  "language_info": {
   "name": "python"
  }
 },
 "nbformat": 4,
 "nbformat_minor": 0
}

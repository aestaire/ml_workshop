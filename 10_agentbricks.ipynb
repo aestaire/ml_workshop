{
 "cells": [
  {
   "cell_type": "markdown",
   "metadata": {
    "application/vnd.databricks.v1+cell": {
     "cellMetadata": {},
     "inputWidgets": {},
     "nuid": "e9612b68-4d71-48b8-a1b7-0079308b156b",
     "showTitle": false,
     "tableResultSettingsMap": {},
     "title": ""
    }
   },
   "source": [
    "\n",
    "<div style=\"text-align: center; line-height: 0; padding-top: 9px;\">\n",
    "  <img src=https://raw.githubusercontent.com/aestaire/ml_workshop/refs/heads/main/files/images/hands-on.png>\n",
    "</div>"
   ]
  },
  {
   "cell_type": "code",
   "execution_count": 0,
   "metadata": {
    "application/vnd.databricks.v1+cell": {
     "cellMetadata": {
      "byteLimit": 2048000,
      "implicitDf": true,
      "rowLimit": 10000
     },
     "inputWidgets": {},
     "nuid": "ac8d1835-67c7-4d31-be34-4b45f15295a3",
     "showTitle": false,
     "tableResultSettingsMap": {},
     "title": ""
    }
   },
   "outputs": [],
   "source": [
    "%sql\n",
    "CREATE CATALOG IF NOT EXISTS `workshop_databricks`;\n",
    "\n",
    "CREATE SCHEMA IF NOT EXISTS `workshop_databricks`.`demo_agentbricks`;\n",
    "\n",
    "CREATE VOLUME IF NOT EXISTS `workshop_databricks`.`demo_agentbricks`.`archivos`;"
   ]
  },
  {
   "cell_type": "code",
   "execution_count": 0,
   "metadata": {
    "application/vnd.databricks.v1+cell": {
     "cellMetadata": {
      "byteLimit": 2048000,
      "rowLimit": 10000
     },
     "inputWidgets": {},
     "nuid": "f99ca492-71f1-444f-a7ae-a9104945957f",
     "showTitle": false,
     "tableResultSettingsMap": {},
     "title": ""
    }
   },
   "outputs": [],
   "source": [
    "catalog = \"workshop_databricks\"\n",
    "schema = \"demo_agentbricks\"\n",
    "volume = \"archivos\"\n",
    "\n",
    "file_name = \"economia_mundial.pdf\"\n",
    "table_name = \"economia_mundial_pdf\"\n",
    "download_url = \"https://raw.githubusercontent.com/aestaire/ml_workshop/refs/heads/main/files/data/economia_mundial.pdf\"\n",
    "path_volume = f\"/Volumes/{catalog}/{schema}/{volume}\"\n",
    "path_table = f\"{catalog}.{schema}\"\n",
    "\n",
    "print(path_table)   # Show the complete path\n",
    "print(path_volume)  # Show the complete path\n",
    "\n",
    "# Copy the CSV file from the URL to the volume\n",
    "dbutils.fs.cp(download_url, f\"{path_volume}/{file_name}\")\n",
    "\n",
    "# Read the CSV file from the volume\n",
    "df = spark.read.csv(\n",
    "    f\"{path_volume}/{file_name}\",\n",
    "    header=True,\n",
    "    inferSchema=True,\n",
    "    sep=\",\",\n",
    "    encoding=\"UTF-8\"\n",
    ")\n",
    "\n",
    "display(df)\n",
    "\n",
    "# Save to Delta Table\n",
    "df.write.mode(\"overwrite\").saveAsTable(f\"{path_table}.{table_name}\")"
   ]
  },
  {
   "cell_type": "code",
   "execution_count": 0,
   "metadata": {
    "application/vnd.databricks.v1+cell": {
     "cellMetadata": {
      "byteLimit": 2048000,
      "rowLimit": 10000
     },
     "inputWidgets": {},
     "nuid": "71d7b680-dee9-40b2-a36e-4d4e729e17f1",
     "showTitle": false,
     "tableResultSettingsMap": {},
     "title": ""
    }
   },
   "outputs": [],
   "source": [
    "catalog = \"workshop_databricks\"\n",
    "schema = \"demo_agentbricks\"\n",
    "volume = \"archivos\"\n",
    "\n",
    "file_name = \"economia_mundial.pdf\"\n",
    "table_name = \"economia_mundial_pdf\"\n",
    "# download_url = \"https://raw.githubusercontent.com/aestaire/ml_workshop/refs/heads/main/files/data/economia_mundial.pdf\"\n",
    "path_volume = f\"/Volumes/{catalog}/{schema}/{volume}\"\n",
    "path_table = f\"{catalog}.{schema}\"\n",
    "\n",
    "print(path_table)   # Show the complete path\n",
    "print(path_volume)  # Show the complete path\n",
    "\n",
    "# Copy the CSV file from the URL to the volume\n",
    "# dbutils.fs.cp(download_url, f\"{path_volume}/{file_name}\")\n",
    "\n",
    "# Read the CSV file from the volume\n",
    "df = spark.read.csv(\n",
    "    f\"{path_volume}/{file_name}\",\n",
    "    header=True,\n",
    "    inferSchema=True,\n",
    "    sep=\",\",\n",
    "    encoding=\"UTF-8\"\n",
    ")\n",
    "\n",
    "display(df)\n",
    "\n",
    "# Save to Delta Table\n",
    "df.write.mode(\"overwrite\").saveAsTable(f\"{path_table}.{table_name}\")"
   ]
  },
  {
   "cell_type": "code",
   "execution_count": 0,
   "metadata": {
    "application/vnd.databricks.v1+cell": {
     "cellMetadata": {},
     "inputWidgets": {},
     "nuid": "9b8682be-1b77-4367-b4e6-83fb96c08bd8",
     "showTitle": false,
     "tableResultSettingsMap": {},
     "title": ""
    }
   },
   "outputs": [],
   "source": [
    "1. buscar datos de prueba\n",
    "2. Añadir paso a paso con screenshots para crear un knowledge assistant"
   ]
  }
 ],
 "metadata": {
  "application/vnd.databricks.v1+notebook": {
   "computePreferences": {
    "hardware": {
     "accelerator": null,
     "gpuPoolId": null,
     "memory": null
    }
   },
   "dashboards": [],
   "environmentMetadata": {
    "base_environment": "",
    "environment_version": "4"
   },
   "inputWidgetPreferences": null,
   "language": "python",
   "notebookMetadata": {
    "mostRecentlyExecutedCommandWithImplicitDF": {
     "commandId": 8149239478214600,
     "dataframes": [
      "_sqldf"
     ]
    },
    "pythonIndentUnit": 2
   },
   "notebookName": "10_agentbricks",
   "widgets": {}
  },
  "language_info": {
   "name": "python"
  }
 },
 "nbformat": 4,
 "nbformat_minor": 0
}

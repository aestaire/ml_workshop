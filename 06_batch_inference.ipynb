{
 "cells": [
  {
   "cell_type": "markdown",
   "metadata": {
    "application/vnd.databricks.v1+cell": {
     "cellMetadata": {},
     "inputWidgets": {},
     "nuid": "3043ac25-429d-4381-ad36-d735be19d6d0",
     "showTitle": false,
     "tableResultSettingsMap": {},
     "title": ""
    }
   },
   "source": [
    "# Inferencia del Modelo de Churn\n",
    "\n",
    "## Inferencia con el modelo Campeón\n",
    "\n",
    "Con los Modelos en Unity Catalog, pueden ser cargados para su uso en pipelines de inferencia por lotes. Las predicciones generadas pueden utilizarse para crear estrategias de retención de clientes o para análisis. El modelo en uso es el modelo __Campeón__, y vamos a cargarlo para usarlo en nuestro pipeline.\n",
    "\n",
    "<img src=\"https://github.com/databricks-demos/dbdemos-resources/blob/main/images/product/mlops/mlops-uc-end2end-5-v2.png?raw=true\" width=\"1200\">\n",
    "\n",
    "<!-- Recopilar datos de uso (visualización). Elimine para deshabilitar la recopilación o desactive el rastreador durante la instalación. Consulte el README para más detalles.  -->\n",
    "<img width=\"1px\" src=\"https://ppxrzfxige.execute-api.us-west-2.amazonaws.com/v1/analytics?category=data-science&org_id=1444828305810485&notebook=%2F01-mlops-quickstart%2F05_batch_inference&demo_name=mlops-end2end&event=VIEW&path=%2F_dbdemos%2Fdata-science%2Fmlops-end2end%2F01-mlops-quickstart%2F05_batch_inference&version=1&user_hash=f7ea13a45c991650d8df810431c3e0e2b12887e9ed7e206ee8fb6209bdb2ae82\">"
   ]
  },
  {
   "cell_type": "markdown",
   "metadata": {
    "application/vnd.databricks.v1+cell": {
     "cellMetadata": {},
     "inputWidgets": {},
     "nuid": "72eefd90-5241-4319-9fd3-50d889a553bb",
     "showTitle": false,
     "tableResultSettingsMap": {},
     "title": ""
    }
   },
   "source": [
    "### Se ha creado un cluster para esta demostración\n",
    "Para ejecutar esta demostración, simplemente selecciona el cluster `dbdemos-mlops-end2end` en el menú desplegable ([abrir configuración del clúster](https://e2-demo-field-eng.cloud.databricks.com/#setting/clusters/1013-181446-g00pu2bj/configuration)). <br />\n",
    "*Nota: Si el cluster fue eliminado después de 30 días, puedes volver a crearlo con `dbdemos.create_cluster('mlops-end2end')` o reinstalar la demo: `dbdemos.install('mlops-end2end')`*"
   ]
  },
  {
   "cell_type": "markdown",
   "metadata": {
    "application/vnd.databricks.v1+cell": {
     "cellMetadata": {},
     "inputWidgets": {},
     "nuid": "c70235ea-52ef-490f-9b8f-57a52ba2fb29",
     "showTitle": false,
     "tableResultSettingsMap": {},
     "title": ""
    }
   },
   "source": [
    "Último ambiente testado:\n",
    "\n",
    "mlflow==3.3.0"
   ]
  },
  {
   "cell_type": "code",
   "execution_count": 0,
   "metadata": {
    "application/vnd.databricks.v1+cell": {
     "cellMetadata": {
      "byteLimit": 2048000,
      "rowLimit": 10000
     },
     "inputWidgets": {},
     "nuid": "11e93cf9-53e3-4360-8b19-2c8fb7978a3c",
     "showTitle": true,
     "tableResultSettingsMap": {},
     "title": "Install MLflow version for model lineage in UC [for MLR < 15.2]"
    }
   },
   "outputs": [],
   "source": [
    "%pip install --quiet mlflow --upgrade\n",
    "\n",
    "\n",
    "%restart_python"
   ]
  },
  {
   "cell_type": "code",
   "execution_count": 0,
   "metadata": {
    "application/vnd.databricks.v1+cell": {
     "cellMetadata": {
      "byteLimit": 2048000,
      "rowLimit": 10000
     },
     "inputWidgets": {},
     "nuid": "f1d87504-9ea8-4b96-8af7-b64b542cdc65",
     "showTitle": false,
     "tableResultSettingsMap": {},
     "title": ""
    },
    "jupyter": {
     "outputs_hidden": true
    }
   },
   "outputs": [],
   "source": [
    "%run ../_resources/00-setup $setup_inference_data=true"
   ]
  },
  {
   "cell_type": "markdown",
   "metadata": {
    "application/vnd.databricks.v1+cell": {
     "cellMetadata": {},
     "inputWidgets": {},
     "isMarkdownSandbox": true,
     "nuid": "6b3594a0-5e6c-4ed3-b0f1-1e7e70e341f7",
     "showTitle": false,
     "tableResultSettingsMap": {},
     "title": ""
    }
   },
   "source": [
    "## Desplegando el modelo para batch inference\n",
    "\n",
    "<!--img style=\"float: right; margin-left: 20px\" width=\"600\" src=\"https://github.com/QuentinAmbard/databricks-demo/raw/main/retail/resources/images/churn_batch_inference.gif\" /-->\n",
    "\n",
    "Ahora que nuestro modelo está disponible en el Unity Catalog Model Registry, podemos cargarlo para calcular nuestras inferencias y guardarlas en una tabla para comenzar a construir dashboards.\n",
    "\n",
    "Usaremos la función de MLflow para cargar un UDF de pyspark y distribuir nuestra inferencia en todo el clúster. Podemos cargar el modelo con Python puro y usar un DataFrame de Pandas si los datos son pequeños.\n",
    "\n",
    "Si no sabes cómo empezar, puedes obtener un código de ejemplo desde la página de __\"Artifacts\"__ del experimento del modelo."
   ]
  },
  {
   "cell_type": "markdown",
   "metadata": {
    "application/vnd.databricks.v1+cell": {
     "cellMetadata": {},
     "inputWidgets": {},
     "nuid": "7de4a7fe-1bc4-4430-8a7a-b4167150c335",
     "showTitle": false,
     "tableResultSettingsMap": {},
     "title": ""
    }
   },
   "source": [
    "## Ejecutar inferencias"
   ]
  },
  {
   "cell_type": "markdown",
   "metadata": {
    "application/vnd.databricks.v1+cell": {
     "cellMetadata": {},
     "inputWidgets": {},
     "nuid": "7d7a6f01-0b00-44d7-b763-158a2c09ef42",
     "showTitle": false,
     "tableResultSettingsMap": {},
     "title": ""
    }
   },
   "source": [
    "### Primero, reinstalemos los requisitos del modelo"
   ]
  },
  {
   "cell_type": "code",
   "execution_count": 0,
   "metadata": {
    "application/vnd.databricks.v1+cell": {
     "cellMetadata": {
      "byteLimit": 2048000,
      "rowLimit": 10000
     },
     "inputWidgets": {},
     "nuid": "aeaae943-a7c3-4860-863c-c4c2524bf152",
     "showTitle": false,
     "tableResultSettingsMap": {},
     "title": ""
    }
   },
   "outputs": [],
   "source": [
    "from mlflow.store.artifact.models_artifact_repo import ModelsArtifactRepository\n",
    "\n",
    "\n",
    "requirements_path = ModelsArtifactRepository(f\"models:/{catalog}.{db}.mlops_churn@Champion\").download_artifacts(artifact_path=\"requirements.txt\") # download model from remote registry"
   ]
  },
  {
   "cell_type": "code",
   "execution_count": 0,
   "metadata": {
    "application/vnd.databricks.v1+cell": {
     "cellMetadata": {
      "byteLimit": 2048000,
      "rowLimit": 10000
     },
     "inputWidgets": {},
     "nuid": "3172cbf9-da9e-41b3-b7f6-3800e06d7bf3",
     "showTitle": false,
     "tableResultSettingsMap": {},
     "title": ""
    }
   },
   "outputs": [],
   "source": [
    "%pip install --quiet -r $requirements_path\n",
    "\n",
    "\n",
    "%restart_python"
   ]
  },
  {
   "cell_type": "code",
   "execution_count": 0,
   "metadata": {
    "application/vnd.databricks.v1+cell": {
     "cellMetadata": {
      "byteLimit": 2048000,
      "rowLimit": 10000
     },
     "inputWidgets": {},
     "nuid": "faeaf59b-a0e9-412b-a56c-daf9775c1577",
     "showTitle": false,
     "tableResultSettingsMap": {},
     "title": ""
    },
    "jupyter": {
     "outputs_hidden": true
    }
   },
   "outputs": [],
   "source": [
    "%run ../_resources/00-setup"
   ]
  },
  {
   "cell_type": "markdown",
   "metadata": {
    "application/vnd.databricks.v1+cell": {
     "cellMetadata": {},
     "inputWidgets": {},
     "nuid": "17b612c9-8f56-4d20-8cf3-33bf2e1cda3d",
     "showTitle": false,
     "tableResultSettingsMap": {},
     "title": ""
    }
   },
   "source": [
    "### Batch Inference en el modelo Champion\n",
    "\n",
    "Estamos listos para ejecutar la inferencia en el modelo Champion. Cargaremos el modelo como un UDF de Spark y generaremos predicciones para nuestros registros de clientes.\n",
    "\n",
    "Para simplificar, asumimos que las características ya han sido extraídas para los nuevos registros de clientes y almacenadas en la tabla de características. Normalmente, esto se realiza mediante pipelines de ingeniería de características separados."
   ]
  },
  {
   "cell_type": "code",
   "execution_count": 0,
   "metadata": {
    "application/vnd.databricks.v1+cell": {
     "cellMetadata": {
      "byteLimit": 2048000,
      "rowLimit": 10000
     },
     "inputWidgets": {},
     "nuid": "8a00243b-5d78-4d76-8a41-8caa6e9dd5ab",
     "showTitle": true,
     "tableResultSettingsMap": {},
     "title": "In a Python notebook"
    }
   },
   "outputs": [],
   "source": [
    "import mlflow\n",
    "\n",
    "\n",
    "# Load customer features to be scored\n",
    "inference_df = spark.read.table(f\"mlops_churn_inference\")\n",
    "# Load champion model as a Spark UDF. You can use virtual env manager for the demo to avoid version conflict (you can remove the pip install above with virtual env)\n",
    "champion_model = mlflow.pyfunc.spark_udf(spark, model_uri=f\"models:/{catalog}.{db}.mlops_churn@Champion\") #Use env_manager=\"virtualenv\" to recreate a venv with the same python version if needed\n",
    "\n",
    "# Batch score\n",
    "preds_df = inference_df.withColumn('predictions', champion_model(*champion_model.metadata.get_input_schema().input_names()))\n",
    "\n",
    "display(preds_df)"
   ]
  },
  {
   "cell_type": "markdown",
   "metadata": {
    "application/vnd.databricks.v1+cell": {
     "cellMetadata": {},
     "inputWidgets": {},
     "nuid": "23a801a9-9db2-4774-8851-79ad9bf8368f",
     "showTitle": false,
     "tableResultSettingsMap": {},
     "title": ""
    }
   },
   "source": [
    "\n",
    "¡Eso es todo! Ahora nuestros datos pueden ser guardados como una tabla y reutilizados por el equipo de Análisis de Datos / Marketing para tomar acciones especiales y reducir el riesgo de Churn en estos clientes.\n",
    "\n",
    "¡Tus datos también estarán disponibles en Genie para responder cualquier pregunta relacionada con churn usando texto en inglés sencillo!"
   ]
  },
  {
   "cell_type": "markdown",
   "metadata": {
    "application/vnd.databricks.v1+cell": {
     "cellMetadata": {},
     "inputWidgets": {},
     "nuid": "f6cc3bcd-d7a4-4407-ac51-df7aaf843250",
     "showTitle": false,
     "tableResultSettingsMap": {},
     "title": ""
    }
   },
   "source": [
    "### Conclusión\n",
    "\n",
    "¡Esto es todo para la demostración rápida! Hemos revisado los conceptos básicos de MLOps y cómo Databricks te ayuda a lograrlos. Estos incluyen:\n",
    "\n",
    "- Ingeniería de características y almacenamiento de tablas de características con etiquetas en Databricks\n",
    "- AutoML, entrenamiento de modelos y seguimiento de experimentos en MLflow\n",
    "- Registro de modelos como Modelos en Unity Catalog para uso gobernado\n",
    "- Validación de modelos, pruebas Champion-Challenger y promoción de modelos\n",
    "- Batch Inference cargando el modelo como un UDF de PySpark\n",
    "\n",
    "Esperamos que hayas disfrutado esta demostración. Como siguiente paso, busca nuestra demostración avanzada de MLOps de extremo a extremo, que incluirá recorridos más detallados sobre los siguientes aspectos de MLOps:\n",
    "\n",
    "- Servir características y Feature Store\n",
    "- Monitoreo de datos y modelos\n",
    "- Despliegue para inferencia en tiempo real"
   ]
  }
 ],
 "metadata": {
  "application/vnd.databricks.v1+notebook": {
   "computePreferences": null,
   "dashboards": [],
   "environmentMetadata": {
    "environment_version": "2"
   },
   "inputWidgetPreferences": null,
   "language": "python",
   "notebookMetadata": {
    "pythonIndentUnit": 2
   },
   "notebookName": "06_batch_inference",
   "widgets": {}
  },
  "language_info": {
   "name": "python"
  }
 },
 "nbformat": 4,
 "nbformat_minor": 0
}
